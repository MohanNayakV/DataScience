{
 "cells": [
  {
   "cell_type": "markdown",
   "id": "baf55752",
   "metadata": {},
   "source": [
    "# 1. Data Introduction & Research Questions"
   ]
  },
  {
   "cell_type": "markdown",
   "id": "207759b7",
   "metadata": {},
   "source": [
    "Back when I was doing a consulting project about import wines, the origin country and the types of wines are important indicators of the price and quality of wines. So, when I browse the numerous datasets available on Kaggle, I came across this dataset about wines that immediately caught my attention.\n",
    "\n",
    "The wine dataset is donated by Stefan Aeberhard in 1991.\n",
    "\n",
    "There are 178 observations. The dataset measures wines in 13 attributes/features, including Alcohol, Malic_Acid, Ash, Ash_Alcanity, Magnesium, Total_Phenols, Flavanoids, Nonflavanoid_Phenols, Proanthocyanins, Color_Intensity, Hue, OD280, and Proline. These attributes are collected through chemical analysis.\n",
    "\n",
    "The grapes that are used to make the wines are grown in the same region in Italy but there are different types/cultivars among these grapes.\n",
    "\n",
    "The original dataset - https://archive.ics.uci.edu/ml/datasets/wine Kaggle link of the same dataset - https://www.kaggle.com/harrywang/wine-dataset-for-clustering\n",
    "\n",
    "**Prompt: Define a research question. What are you trying to predict? Describe what you're trying to accomplish?**\n",
    "\n",
    "RQ: Is it feasible to cluster these wines based on their attributes/features using the unsupervised kMeans clustering? If so, how well would the kMeans model perform?\n"
   ]
  },
  {
   "cell_type": "markdown",
   "id": "5db5120e",
   "metadata": {},
   "source": [
    "# 2. Load the Data & Sanity Check"
   ]
  },
  {
   "cell_type": "code",
   "execution_count": 3,
   "id": "4bcf800d",
   "metadata": {},
   "outputs": [],
   "source": [
    "import pandas as pd\n",
    "import numpy as np\n",
    "import matplotlib.pyplot as plt\n",
    "from sklearn.cluster import KMeans\n",
    "from sklearn.preprocessing import StandardScaler\n",
    "import seaborn as sns\n",
    "from sklearn.decomposition import PCA"
   ]
  },
  {
   "cell_type": "code",
   "execution_count": 4,
   "id": "844831d7",
   "metadata": {},
   "outputs": [],
   "source": [
    "# Load the data\n",
    "\n",
    "data = pd.read_csv(\"C:/Users/Mohan/Desktop/Project CSV/wine-clustering.csv\")"
   ]
  },
  {
   "cell_type": "code",
   "execution_count": 5,
   "id": "ea29e2f9",
   "metadata": {},
   "outputs": [
    {
     "data": {
      "text/html": [
       "<div>\n",
       "<style scoped>\n",
       "    .dataframe tbody tr th:only-of-type {\n",
       "        vertical-align: middle;\n",
       "    }\n",
       "\n",
       "    .dataframe tbody tr th {\n",
       "        vertical-align: top;\n",
       "    }\n",
       "\n",
       "    .dataframe thead th {\n",
       "        text-align: right;\n",
       "    }\n",
       "</style>\n",
       "<table border=\"1\" class=\"dataframe\">\n",
       "  <thead>\n",
       "    <tr style=\"text-align: right;\">\n",
       "      <th></th>\n",
       "      <th>Alcohol</th>\n",
       "      <th>Malic_Acid</th>\n",
       "      <th>Ash</th>\n",
       "      <th>Ash_Alcanity</th>\n",
       "      <th>Magnesium</th>\n",
       "      <th>Total_Phenols</th>\n",
       "      <th>Flavanoids</th>\n",
       "      <th>Nonflavanoid_Phenols</th>\n",
       "      <th>Proanthocyanins</th>\n",
       "      <th>Color_Intensity</th>\n",
       "      <th>Hue</th>\n",
       "      <th>OD280</th>\n",
       "      <th>Proline</th>\n",
       "    </tr>\n",
       "  </thead>\n",
       "  <tbody>\n",
       "    <tr>\n",
       "      <th>0</th>\n",
       "      <td>14.23</td>\n",
       "      <td>1.71</td>\n",
       "      <td>2.43</td>\n",
       "      <td>15.6</td>\n",
       "      <td>127</td>\n",
       "      <td>2.80</td>\n",
       "      <td>3.06</td>\n",
       "      <td>0.28</td>\n",
       "      <td>2.29</td>\n",
       "      <td>5.64</td>\n",
       "      <td>1.04</td>\n",
       "      <td>3.92</td>\n",
       "      <td>1065</td>\n",
       "    </tr>\n",
       "    <tr>\n",
       "      <th>1</th>\n",
       "      <td>13.20</td>\n",
       "      <td>1.78</td>\n",
       "      <td>2.14</td>\n",
       "      <td>11.2</td>\n",
       "      <td>100</td>\n",
       "      <td>2.65</td>\n",
       "      <td>2.76</td>\n",
       "      <td>0.26</td>\n",
       "      <td>1.28</td>\n",
       "      <td>4.38</td>\n",
       "      <td>1.05</td>\n",
       "      <td>3.40</td>\n",
       "      <td>1050</td>\n",
       "    </tr>\n",
       "    <tr>\n",
       "      <th>2</th>\n",
       "      <td>13.16</td>\n",
       "      <td>2.36</td>\n",
       "      <td>2.67</td>\n",
       "      <td>18.6</td>\n",
       "      <td>101</td>\n",
       "      <td>2.80</td>\n",
       "      <td>3.24</td>\n",
       "      <td>0.30</td>\n",
       "      <td>2.81</td>\n",
       "      <td>5.68</td>\n",
       "      <td>1.03</td>\n",
       "      <td>3.17</td>\n",
       "      <td>1185</td>\n",
       "    </tr>\n",
       "    <tr>\n",
       "      <th>3</th>\n",
       "      <td>14.37</td>\n",
       "      <td>1.95</td>\n",
       "      <td>2.50</td>\n",
       "      <td>16.8</td>\n",
       "      <td>113</td>\n",
       "      <td>3.85</td>\n",
       "      <td>3.49</td>\n",
       "      <td>0.24</td>\n",
       "      <td>2.18</td>\n",
       "      <td>7.80</td>\n",
       "      <td>0.86</td>\n",
       "      <td>3.45</td>\n",
       "      <td>1480</td>\n",
       "    </tr>\n",
       "    <tr>\n",
       "      <th>4</th>\n",
       "      <td>13.24</td>\n",
       "      <td>2.59</td>\n",
       "      <td>2.87</td>\n",
       "      <td>21.0</td>\n",
       "      <td>118</td>\n",
       "      <td>2.80</td>\n",
       "      <td>2.69</td>\n",
       "      <td>0.39</td>\n",
       "      <td>1.82</td>\n",
       "      <td>4.32</td>\n",
       "      <td>1.04</td>\n",
       "      <td>2.93</td>\n",
       "      <td>735</td>\n",
       "    </tr>\n",
       "  </tbody>\n",
       "</table>\n",
       "</div>"
      ],
      "text/plain": [
       "   Alcohol  Malic_Acid   Ash  Ash_Alcanity  Magnesium  Total_Phenols  \\\n",
       "0    14.23        1.71  2.43          15.6        127           2.80   \n",
       "1    13.20        1.78  2.14          11.2        100           2.65   \n",
       "2    13.16        2.36  2.67          18.6        101           2.80   \n",
       "3    14.37        1.95  2.50          16.8        113           3.85   \n",
       "4    13.24        2.59  2.87          21.0        118           2.80   \n",
       "\n",
       "   Flavanoids  Nonflavanoid_Phenols  Proanthocyanins  Color_Intensity   Hue  \\\n",
       "0        3.06                  0.28             2.29             5.64  1.04   \n",
       "1        2.76                  0.26             1.28             4.38  1.05   \n",
       "2        3.24                  0.30             2.81             5.68  1.03   \n",
       "3        3.49                  0.24             2.18             7.80  0.86   \n",
       "4        2.69                  0.39             1.82             4.32  1.04   \n",
       "\n",
       "   OD280  Proline  \n",
       "0   3.92     1065  \n",
       "1   3.40     1050  \n",
       "2   3.17     1185  \n",
       "3   3.45     1480  \n",
       "4   2.93      735  "
      ]
     },
     "execution_count": 5,
     "metadata": {},
     "output_type": "execute_result"
    }
   ],
   "source": [
    "# Check the first rows of the data\n",
    "\n",
    "data.head(5)"
   ]
  },
  {
   "cell_type": "code",
   "execution_count": 6,
   "id": "01253318",
   "metadata": {},
   "outputs": [
    {
     "data": {
      "text/html": [
       "<div>\n",
       "<style scoped>\n",
       "    .dataframe tbody tr th:only-of-type {\n",
       "        vertical-align: middle;\n",
       "    }\n",
       "\n",
       "    .dataframe tbody tr th {\n",
       "        vertical-align: top;\n",
       "    }\n",
       "\n",
       "    .dataframe thead th {\n",
       "        text-align: right;\n",
       "    }\n",
       "</style>\n",
       "<table border=\"1\" class=\"dataframe\">\n",
       "  <thead>\n",
       "    <tr style=\"text-align: right;\">\n",
       "      <th></th>\n",
       "      <th>Alcohol</th>\n",
       "      <th>Malic_Acid</th>\n",
       "      <th>Ash</th>\n",
       "      <th>Ash_Alcanity</th>\n",
       "      <th>Magnesium</th>\n",
       "      <th>Total_Phenols</th>\n",
       "      <th>Flavanoids</th>\n",
       "      <th>Nonflavanoid_Phenols</th>\n",
       "      <th>Proanthocyanins</th>\n",
       "      <th>Color_Intensity</th>\n",
       "      <th>Hue</th>\n",
       "      <th>OD280</th>\n",
       "      <th>Proline</th>\n",
       "    </tr>\n",
       "  </thead>\n",
       "  <tbody>\n",
       "    <tr>\n",
       "      <th>173</th>\n",
       "      <td>13.71</td>\n",
       "      <td>5.65</td>\n",
       "      <td>2.45</td>\n",
       "      <td>20.5</td>\n",
       "      <td>95</td>\n",
       "      <td>1.68</td>\n",
       "      <td>0.61</td>\n",
       "      <td>0.52</td>\n",
       "      <td>1.06</td>\n",
       "      <td>7.7</td>\n",
       "      <td>0.64</td>\n",
       "      <td>1.74</td>\n",
       "      <td>740</td>\n",
       "    </tr>\n",
       "    <tr>\n",
       "      <th>174</th>\n",
       "      <td>13.40</td>\n",
       "      <td>3.91</td>\n",
       "      <td>2.48</td>\n",
       "      <td>23.0</td>\n",
       "      <td>102</td>\n",
       "      <td>1.80</td>\n",
       "      <td>0.75</td>\n",
       "      <td>0.43</td>\n",
       "      <td>1.41</td>\n",
       "      <td>7.3</td>\n",
       "      <td>0.70</td>\n",
       "      <td>1.56</td>\n",
       "      <td>750</td>\n",
       "    </tr>\n",
       "    <tr>\n",
       "      <th>175</th>\n",
       "      <td>13.27</td>\n",
       "      <td>4.28</td>\n",
       "      <td>2.26</td>\n",
       "      <td>20.0</td>\n",
       "      <td>120</td>\n",
       "      <td>1.59</td>\n",
       "      <td>0.69</td>\n",
       "      <td>0.43</td>\n",
       "      <td>1.35</td>\n",
       "      <td>10.2</td>\n",
       "      <td>0.59</td>\n",
       "      <td>1.56</td>\n",
       "      <td>835</td>\n",
       "    </tr>\n",
       "    <tr>\n",
       "      <th>176</th>\n",
       "      <td>13.17</td>\n",
       "      <td>2.59</td>\n",
       "      <td>2.37</td>\n",
       "      <td>20.0</td>\n",
       "      <td>120</td>\n",
       "      <td>1.65</td>\n",
       "      <td>0.68</td>\n",
       "      <td>0.53</td>\n",
       "      <td>1.46</td>\n",
       "      <td>9.3</td>\n",
       "      <td>0.60</td>\n",
       "      <td>1.62</td>\n",
       "      <td>840</td>\n",
       "    </tr>\n",
       "    <tr>\n",
       "      <th>177</th>\n",
       "      <td>14.13</td>\n",
       "      <td>4.10</td>\n",
       "      <td>2.74</td>\n",
       "      <td>24.5</td>\n",
       "      <td>96</td>\n",
       "      <td>2.05</td>\n",
       "      <td>0.76</td>\n",
       "      <td>0.56</td>\n",
       "      <td>1.35</td>\n",
       "      <td>9.2</td>\n",
       "      <td>0.61</td>\n",
       "      <td>1.60</td>\n",
       "      <td>560</td>\n",
       "    </tr>\n",
       "  </tbody>\n",
       "</table>\n",
       "</div>"
      ],
      "text/plain": [
       "     Alcohol  Malic_Acid   Ash  Ash_Alcanity  Magnesium  Total_Phenols  \\\n",
       "173    13.71        5.65  2.45          20.5         95           1.68   \n",
       "174    13.40        3.91  2.48          23.0        102           1.80   \n",
       "175    13.27        4.28  2.26          20.0        120           1.59   \n",
       "176    13.17        2.59  2.37          20.0        120           1.65   \n",
       "177    14.13        4.10  2.74          24.5         96           2.05   \n",
       "\n",
       "     Flavanoids  Nonflavanoid_Phenols  Proanthocyanins  Color_Intensity   Hue  \\\n",
       "173        0.61                  0.52             1.06              7.7  0.64   \n",
       "174        0.75                  0.43             1.41              7.3  0.70   \n",
       "175        0.69                  0.43             1.35             10.2  0.59   \n",
       "176        0.68                  0.53             1.46              9.3  0.60   \n",
       "177        0.76                  0.56             1.35              9.2  0.61   \n",
       "\n",
       "     OD280  Proline  \n",
       "173   1.74      740  \n",
       "174   1.56      750  \n",
       "175   1.56      835  \n",
       "176   1.62      840  \n",
       "177   1.60      560  "
      ]
     },
     "execution_count": 6,
     "metadata": {},
     "output_type": "execute_result"
    }
   ],
   "source": [
    "# Check the last rows of the data\n",
    "\n",
    "data.tail(5)"
   ]
  },
  {
   "cell_type": "code",
   "execution_count": 7,
   "id": "e74a6cdb",
   "metadata": {},
   "outputs": [
    {
     "data": {
      "text/plain": [
       "(178, 13)"
      ]
     },
     "execution_count": 7,
     "metadata": {},
     "output_type": "execute_result"
    }
   ],
   "source": [
    "# Check the dimensions\n",
    "data.shape"
   ]
  },
  {
   "cell_type": "code",
   "execution_count": 8,
   "id": "0985f9c3",
   "metadata": {},
   "outputs": [
    {
     "data": {
      "text/plain": [
       "Alcohol                 0\n",
       "Malic_Acid              0\n",
       "Ash                     0\n",
       "Ash_Alcanity            0\n",
       "Magnesium               0\n",
       "Total_Phenols           0\n",
       "Flavanoids              0\n",
       "Nonflavanoid_Phenols    0\n",
       "Proanthocyanins         0\n",
       "Color_Intensity         0\n",
       "Hue                     0\n",
       "OD280                   0\n",
       "Proline                 0\n",
       "dtype: int64"
      ]
     },
     "execution_count": 8,
     "metadata": {},
     "output_type": "execute_result"
    }
   ],
   "source": [
    "# check for na values\n",
    "data.isnull().sum()"
   ]
  },
  {
   "cell_type": "code",
   "execution_count": 9,
   "id": "8bd11a6e",
   "metadata": {},
   "outputs": [
    {
     "data": {
      "text/html": [
       "<div>\n",
       "<style scoped>\n",
       "    .dataframe tbody tr th:only-of-type {\n",
       "        vertical-align: middle;\n",
       "    }\n",
       "\n",
       "    .dataframe tbody tr th {\n",
       "        vertical-align: top;\n",
       "    }\n",
       "\n",
       "    .dataframe thead th {\n",
       "        text-align: right;\n",
       "    }\n",
       "</style>\n",
       "<table border=\"1\" class=\"dataframe\">\n",
       "  <thead>\n",
       "    <tr style=\"text-align: right;\">\n",
       "      <th></th>\n",
       "      <th>Alcohol</th>\n",
       "      <th>Malic_Acid</th>\n",
       "      <th>Ash</th>\n",
       "      <th>Ash_Alcanity</th>\n",
       "      <th>Magnesium</th>\n",
       "      <th>Total_Phenols</th>\n",
       "      <th>Flavanoids</th>\n",
       "      <th>Nonflavanoid_Phenols</th>\n",
       "      <th>Proanthocyanins</th>\n",
       "      <th>Color_Intensity</th>\n",
       "      <th>Hue</th>\n",
       "      <th>OD280</th>\n",
       "      <th>Proline</th>\n",
       "    </tr>\n",
       "  </thead>\n",
       "  <tbody>\n",
       "    <tr>\n",
       "      <th>count</th>\n",
       "      <td>178.000000</td>\n",
       "      <td>178.000000</td>\n",
       "      <td>178.000000</td>\n",
       "      <td>178.000000</td>\n",
       "      <td>178.000000</td>\n",
       "      <td>178.000000</td>\n",
       "      <td>178.000000</td>\n",
       "      <td>178.000000</td>\n",
       "      <td>178.000000</td>\n",
       "      <td>178.000000</td>\n",
       "      <td>178.000000</td>\n",
       "      <td>178.000000</td>\n",
       "      <td>178.000000</td>\n",
       "    </tr>\n",
       "    <tr>\n",
       "      <th>mean</th>\n",
       "      <td>13.000618</td>\n",
       "      <td>2.336348</td>\n",
       "      <td>2.366517</td>\n",
       "      <td>19.494944</td>\n",
       "      <td>99.741573</td>\n",
       "      <td>2.295112</td>\n",
       "      <td>2.029270</td>\n",
       "      <td>0.361854</td>\n",
       "      <td>1.590899</td>\n",
       "      <td>5.058090</td>\n",
       "      <td>0.957449</td>\n",
       "      <td>2.611685</td>\n",
       "      <td>746.893258</td>\n",
       "    </tr>\n",
       "    <tr>\n",
       "      <th>std</th>\n",
       "      <td>0.811827</td>\n",
       "      <td>1.117146</td>\n",
       "      <td>0.274344</td>\n",
       "      <td>3.339564</td>\n",
       "      <td>14.282484</td>\n",
       "      <td>0.625851</td>\n",
       "      <td>0.998859</td>\n",
       "      <td>0.124453</td>\n",
       "      <td>0.572359</td>\n",
       "      <td>2.318286</td>\n",
       "      <td>0.228572</td>\n",
       "      <td>0.709990</td>\n",
       "      <td>314.907474</td>\n",
       "    </tr>\n",
       "    <tr>\n",
       "      <th>min</th>\n",
       "      <td>11.030000</td>\n",
       "      <td>0.740000</td>\n",
       "      <td>1.360000</td>\n",
       "      <td>10.600000</td>\n",
       "      <td>70.000000</td>\n",
       "      <td>0.980000</td>\n",
       "      <td>0.340000</td>\n",
       "      <td>0.130000</td>\n",
       "      <td>0.410000</td>\n",
       "      <td>1.280000</td>\n",
       "      <td>0.480000</td>\n",
       "      <td>1.270000</td>\n",
       "      <td>278.000000</td>\n",
       "    </tr>\n",
       "    <tr>\n",
       "      <th>25%</th>\n",
       "      <td>12.362500</td>\n",
       "      <td>1.602500</td>\n",
       "      <td>2.210000</td>\n",
       "      <td>17.200000</td>\n",
       "      <td>88.000000</td>\n",
       "      <td>1.742500</td>\n",
       "      <td>1.205000</td>\n",
       "      <td>0.270000</td>\n",
       "      <td>1.250000</td>\n",
       "      <td>3.220000</td>\n",
       "      <td>0.782500</td>\n",
       "      <td>1.937500</td>\n",
       "      <td>500.500000</td>\n",
       "    </tr>\n",
       "    <tr>\n",
       "      <th>50%</th>\n",
       "      <td>13.050000</td>\n",
       "      <td>1.865000</td>\n",
       "      <td>2.360000</td>\n",
       "      <td>19.500000</td>\n",
       "      <td>98.000000</td>\n",
       "      <td>2.355000</td>\n",
       "      <td>2.135000</td>\n",
       "      <td>0.340000</td>\n",
       "      <td>1.555000</td>\n",
       "      <td>4.690000</td>\n",
       "      <td>0.965000</td>\n",
       "      <td>2.780000</td>\n",
       "      <td>673.500000</td>\n",
       "    </tr>\n",
       "    <tr>\n",
       "      <th>75%</th>\n",
       "      <td>13.677500</td>\n",
       "      <td>3.082500</td>\n",
       "      <td>2.557500</td>\n",
       "      <td>21.500000</td>\n",
       "      <td>107.000000</td>\n",
       "      <td>2.800000</td>\n",
       "      <td>2.875000</td>\n",
       "      <td>0.437500</td>\n",
       "      <td>1.950000</td>\n",
       "      <td>6.200000</td>\n",
       "      <td>1.120000</td>\n",
       "      <td>3.170000</td>\n",
       "      <td>985.000000</td>\n",
       "    </tr>\n",
       "    <tr>\n",
       "      <th>max</th>\n",
       "      <td>14.830000</td>\n",
       "      <td>5.800000</td>\n",
       "      <td>3.230000</td>\n",
       "      <td>30.000000</td>\n",
       "      <td>162.000000</td>\n",
       "      <td>3.880000</td>\n",
       "      <td>5.080000</td>\n",
       "      <td>0.660000</td>\n",
       "      <td>3.580000</td>\n",
       "      <td>13.000000</td>\n",
       "      <td>1.710000</td>\n",
       "      <td>4.000000</td>\n",
       "      <td>1680.000000</td>\n",
       "    </tr>\n",
       "  </tbody>\n",
       "</table>\n",
       "</div>"
      ],
      "text/plain": [
       "          Alcohol  Malic_Acid         Ash  Ash_Alcanity   Magnesium  \\\n",
       "count  178.000000  178.000000  178.000000    178.000000  178.000000   \n",
       "mean    13.000618    2.336348    2.366517     19.494944   99.741573   \n",
       "std      0.811827    1.117146    0.274344      3.339564   14.282484   \n",
       "min     11.030000    0.740000    1.360000     10.600000   70.000000   \n",
       "25%     12.362500    1.602500    2.210000     17.200000   88.000000   \n",
       "50%     13.050000    1.865000    2.360000     19.500000   98.000000   \n",
       "75%     13.677500    3.082500    2.557500     21.500000  107.000000   \n",
       "max     14.830000    5.800000    3.230000     30.000000  162.000000   \n",
       "\n",
       "       Total_Phenols  Flavanoids  Nonflavanoid_Phenols  Proanthocyanins  \\\n",
       "count     178.000000  178.000000            178.000000       178.000000   \n",
       "mean        2.295112    2.029270              0.361854         1.590899   \n",
       "std         0.625851    0.998859              0.124453         0.572359   \n",
       "min         0.980000    0.340000              0.130000         0.410000   \n",
       "25%         1.742500    1.205000              0.270000         1.250000   \n",
       "50%         2.355000    2.135000              0.340000         1.555000   \n",
       "75%         2.800000    2.875000              0.437500         1.950000   \n",
       "max         3.880000    5.080000              0.660000         3.580000   \n",
       "\n",
       "       Color_Intensity         Hue       OD280      Proline  \n",
       "count       178.000000  178.000000  178.000000   178.000000  \n",
       "mean          5.058090    0.957449    2.611685   746.893258  \n",
       "std           2.318286    0.228572    0.709990   314.907474  \n",
       "min           1.280000    0.480000    1.270000   278.000000  \n",
       "25%           3.220000    0.782500    1.937500   500.500000  \n",
       "50%           4.690000    0.965000    2.780000   673.500000  \n",
       "75%           6.200000    1.120000    3.170000   985.000000  \n",
       "max          13.000000    1.710000    4.000000  1680.000000  "
      ]
     },
     "execution_count": 9,
     "metadata": {},
     "output_type": "execute_result"
    }
   ],
   "source": [
    "# Describe the data briefly\n",
    "data.describe()"
   ]
  },
  {
   "cell_type": "markdown",
   "id": "a4549964",
   "metadata": {},
   "source": [
    "# 3. Data pre-processing: Feature scaling\n",
    "In the original link of the wine dataset, it suggest to standardise the variables."
   ]
  },
  {
   "cell_type": "code",
   "execution_count": 10,
   "id": "3a21f13c",
   "metadata": {},
   "outputs": [],
   "source": [
    "# Use the standard scaler\n",
    "scaler = StandardScaler()\n",
    "data_scaled = scaler.fit_transform(data)"
   ]
  },
  {
   "cell_type": "markdown",
   "id": "09c35bf6",
   "metadata": {},
   "source": [
    "# 4. Run the kMeans Clustering Models\n",
    "\n",
    "**Prompt: Why is this algorithm a good way of answering your research question?\n",
    "\n",
    "kMeans clustering is good at data exploration, finding the unknown patterns. In this case, kMeans is a perfect solution to reveal patterns of wines since I have no expert knowledge of how different types of wines have different level of attributes. Also, kMeans easy to implement and is less computationally intensive.\n",
    "\n",
    "**Prompt: Tinker with parameters at least 3 times**\n",
    "1.Run the kMeans model using all 13 features\n",
    "2.Apply PCA to reduce the number of fearues, then run the kMeans model\n",
    "3.Manually select certain features that are intuitively closely related to the types of wines, then run the kMeans model\n",
    "\n"
   ]
  },
  {
   "cell_type": "markdown",
   "id": "b02a1eaa",
   "metadata": {},
   "source": [
    "***Model 1: Use all 13 features***"
   ]
  },
  {
   "cell_type": "code",
   "execution_count": 11,
   "id": "1cfc9d49",
   "metadata": {},
   "outputs": [],
   "source": [
    "# Iterate through different numbers of clusters to find the minimun of within cluster variation\n",
    "# Create an empty list of within cluster variation\n",
    "wcss = []\n",
    "# Run a for loop and store the output\n",
    "for i in range(1, 10):\n",
    "    kmeans = KMeans(n_clusters = i, init = 'k-means++',random_state = 30)\n",
    "    # fit the data\n",
    "    kmeans.fit(data_scaled)\n",
    "    # append the wcss in the empty list\n",
    "    wcss.append(kmeans.inertia_)"
   ]
  },
  {
   "cell_type": "code",
   "execution_count": 79,
   "id": "ba50bb0e",
   "metadata": {},
   "outputs": [
    {
     "data": {
      "text/plain": [
       "Text(0.5, 1.0, 'Elbow Point Graph')"
      ]
     },
     "execution_count": 79,
     "metadata": {},
     "output_type": "execute_result"
    },
    {
     "data": {
      "image/png": "[encoded data removed]",
      "text/plain": [
       "<Figure size 432x288 with 1 Axes>"
      ]
     },
     "metadata": {},
     "output_type": "display_data"
    }
   ],
   "source": [
    "# elbow points graph\n",
    "%matplotlib inline\n",
    "import matplotlib.pyplot as plt\n",
    "sns.set()\n",
    "plt.plot(range(1, 10), wcss)\n",
    "plt.xlabel(\"Number of clusters\")\n",
    "plt.ylabel(\"Within cluster variation\")\n",
    "plt.title('Elbow Point Graph')"
   ]
  },
  {
   "cell_type": "markdown",
   "id": "94c45b47",
   "metadata": {},
   "source": [
    "The elbow graph above shows the optimal number of cluster is 3. After the number of 3, the within cluster variance drops slowly."
   ]
  },
  {
   "cell_type": "code",
   "execution_count": 16,
   "id": "d5460b20",
   "metadata": {},
   "outputs": [],
   "source": [
    "# Fit the kMeans model with 3 clusters\n",
    "kmeans = KMeans(n_clusters = 3, init = 'k-means++',random_state = 335)"
   ]
  },
  {
   "cell_type": "code",
   "execution_count": 17,
   "id": "a4f2d233",
   "metadata": {},
   "outputs": [],
   "source": [
    "# Return the labels of clusters\n",
    "y_scaled = kmeans.fit_predict(data_scaled)"
   ]
  },
  {
   "cell_type": "code",
   "execution_count": 18,
   "id": "7e2c8209",
   "metadata": {},
   "outputs": [
    {
     "data": {
      "text/plain": [
       "array([1, 1, 1, 1, 1, 1, 1, 1, 1, 1, 1, 1, 1, 1, 1, 1, 1, 1, 1, 1, 1, 1,\n",
       "       1, 1, 1, 1, 1, 1, 1, 1, 1, 1, 1, 1, 1, 1, 1, 1, 1, 1, 1, 1, 1, 1,\n",
       "       1, 1, 1, 1, 1, 1, 1, 1, 1, 1, 1, 1, 1, 1, 1, 0, 0, 2, 0, 0, 0, 0,\n",
       "       0, 0, 0, 0, 0, 0, 0, 1, 0, 0, 0, 0, 0, 0, 0, 0, 0, 2, 0, 0, 0, 0,\n",
       "       0, 0, 0, 0, 0, 0, 0, 1, 0, 0, 0, 0, 0, 0, 0, 0, 0, 0, 0, 0, 0, 0,\n",
       "       0, 0, 0, 0, 0, 0, 0, 0, 2, 0, 0, 1, 0, 0, 0, 0, 0, 0, 0, 0, 2, 2,\n",
       "       2, 2, 2, 2, 2, 2, 2, 2, 2, 2, 2, 2, 2, 2, 2, 2, 2, 2, 2, 2, 2, 2,\n",
       "       2, 2, 2, 2, 2, 2, 2, 2, 2, 2, 2, 2, 2, 2, 2, 2, 2, 2, 2, 2, 2, 2,\n",
       "       2, 2])"
      ]
     },
     "execution_count": 18,
     "metadata": {},
     "output_type": "execute_result"
    }
   ],
   "source": [
    "# Show the predicted/clustered labels\n",
    "y_scaled"
   ]
  },
  {
   "cell_type": "markdown",
   "id": "1a437ccd",
   "metadata": {},
   "source": [
    "***Measure the accuracy***\n",
    "In the original data set, there are labels 1, 2, 3, indicating different wine types. So, it is feasible to measure the accuracy by comparing the predicted results of the kMeans and the original labels."
   ]
  },
  {
   "cell_type": "code",
   "execution_count": 19,
   "id": "284a2599",
   "metadata": {},
   "outputs": [],
   "source": [
    "# Load the data with labels provided by the donator of this data set\n",
    "data_labeled = pd.read_csv(\"C:/Users/Mohan/Desktop/Project CSV/wine.txt\", sep= ',', header=None)"
   ]
  },
  {
   "cell_type": "code",
   "execution_count": 20,
   "id": "73a29e3e",
   "metadata": {},
   "outputs": [
    {
     "data": {
      "text/html": [
       "<div>\n",
       "<style scoped>\n",
       "    .dataframe tbody tr th:only-of-type {\n",
       "        vertical-align: middle;\n",
       "    }\n",
       "\n",
       "    .dataframe tbody tr th {\n",
       "        vertical-align: top;\n",
       "    }\n",
       "\n",
       "    .dataframe thead th {\n",
       "        text-align: right;\n",
       "    }\n",
       "</style>\n",
       "<table border=\"1\" class=\"dataframe\">\n",
       "  <thead>\n",
       "    <tr style=\"text-align: right;\">\n",
       "      <th></th>\n",
       "      <th>0</th>\n",
       "      <th>1</th>\n",
       "      <th>2</th>\n",
       "      <th>3</th>\n",
       "      <th>4</th>\n",
       "      <th>5</th>\n",
       "      <th>6</th>\n",
       "      <th>7</th>\n",
       "      <th>8</th>\n",
       "      <th>9</th>\n",
       "      <th>10</th>\n",
       "      <th>11</th>\n",
       "      <th>12</th>\n",
       "      <th>13</th>\n",
       "    </tr>\n",
       "  </thead>\n",
       "  <tbody>\n",
       "    <tr>\n",
       "      <th>0</th>\n",
       "      <td>1</td>\n",
       "      <td>14.23</td>\n",
       "      <td>1.71</td>\n",
       "      <td>2.43</td>\n",
       "      <td>15.6</td>\n",
       "      <td>127</td>\n",
       "      <td>2.8</td>\n",
       "      <td>3.06</td>\n",
       "      <td>0.28</td>\n",
       "      <td>2.29</td>\n",
       "      <td>5.64</td>\n",
       "      <td>1.04</td>\n",
       "      <td>3.92</td>\n",
       "      <td>1065</td>\n",
       "    </tr>\n",
       "  </tbody>\n",
       "</table>\n",
       "</div>"
      ],
      "text/plain": [
       "   0      1     2     3     4    5    6     7     8     9     10    11    12  \\\n",
       "0   1  14.23  1.71  2.43  15.6  127  2.8  3.06  0.28  2.29  5.64  1.04  3.92   \n",
       "\n",
       "     13  \n",
       "0  1065  "
      ]
     },
     "execution_count": 20,
     "metadata": {},
     "output_type": "execute_result"
    }
   ],
   "source": [
    "# The first column indicates the types of wines\n",
    "data_labeled.head(1)"
   ]
  },
  {
   "cell_type": "code",
   "execution_count": 21,
   "id": "095365b4",
   "metadata": {},
   "outputs": [
    {
     "data": {
      "text/plain": [
       "Int64Index([0, 1, 2, 3, 4, 5, 6, 7, 8, 9, 10, 11, 12, 13], dtype='int64')"
      ]
     },
     "execution_count": 21,
     "metadata": {},
     "output_type": "execute_result"
    }
   ],
   "source": [
    "data_labeled.columns"
   ]
  },
  {
   "cell_type": "code",
   "execution_count": 22,
   "id": "8713be95",
   "metadata": {},
   "outputs": [],
   "source": [
    "# Name the columns\n",
    "data_labeled.columns =['OriginalLabel','Alcohol', 'Malic_Acid', 'Ash', 'Ash_Alcanity', 'Magnesium',\n",
    "       'Total_Phenols', 'Flavanoids', 'Nonflavanoid_Phenols',\n",
    "       'Proanthocyanins', 'Color_Intensity', 'Hue', 'OD280', 'Proline']"
   ]
  },
  {
   "cell_type": "code",
   "execution_count": 24,
   "id": "ffb1ef96",
   "metadata": {},
   "outputs": [
    {
     "data": {
      "text/html": [
       "<div>\n",
       "<style scoped>\n",
       "    .dataframe tbody tr th:only-of-type {\n",
       "        vertical-align: middle;\n",
       "    }\n",
       "\n",
       "    .dataframe tbody tr th {\n",
       "        vertical-align: top;\n",
       "    }\n",
       "\n",
       "    .dataframe thead th {\n",
       "        text-align: right;\n",
       "    }\n",
       "</style>\n",
       "<table border=\"1\" class=\"dataframe\">\n",
       "  <thead>\n",
       "    <tr style=\"text-align: right;\">\n",
       "      <th></th>\n",
       "      <th>OriginalLabel</th>\n",
       "      <th>Alcohol</th>\n",
       "      <th>Malic_Acid</th>\n",
       "      <th>Ash</th>\n",
       "      <th>Ash_Alcanity</th>\n",
       "      <th>Magnesium</th>\n",
       "      <th>Total_Phenols</th>\n",
       "      <th>Flavanoids</th>\n",
       "      <th>Nonflavanoid_Phenols</th>\n",
       "      <th>Proanthocyanins</th>\n",
       "      <th>Color_Intensity</th>\n",
       "      <th>Hue</th>\n",
       "      <th>OD280</th>\n",
       "      <th>Proline</th>\n",
       "    </tr>\n",
       "  </thead>\n",
       "  <tbody>\n",
       "    <tr>\n",
       "      <th>177</th>\n",
       "      <td>3</td>\n",
       "      <td>14.13</td>\n",
       "      <td>4.1</td>\n",
       "      <td>2.74</td>\n",
       "      <td>24.5</td>\n",
       "      <td>96</td>\n",
       "      <td>2.05</td>\n",
       "      <td>0.76</td>\n",
       "      <td>0.56</td>\n",
       "      <td>1.35</td>\n",
       "      <td>9.2</td>\n",
       "      <td>0.61</td>\n",
       "      <td>1.6</td>\n",
       "      <td>560</td>\n",
       "    </tr>\n",
       "  </tbody>\n",
       "</table>\n",
       "</div>"
      ],
      "text/plain": [
       "     OriginalLabel  Alcohol  Malic_Acid   Ash  Ash_Alcanity  Magnesium  \\\n",
       "177              3    14.13         4.1  2.74          24.5         96   \n",
       "\n",
       "     Total_Phenols  Flavanoids  Nonflavanoid_Phenols  Proanthocyanins  \\\n",
       "177           2.05        0.76                  0.56             1.35   \n",
       "\n",
       "     Color_Intensity   Hue  OD280  Proline  \n",
       "177              9.2  0.61    1.6      560  "
      ]
     },
     "execution_count": 24,
     "metadata": {},
     "output_type": "execute_result"
    }
   ],
   "source": [
    "data_labeled.tail(1)"
   ]
  },
  {
   "cell_type": "code",
   "execution_count": 25,
   "id": "c9bff024",
   "metadata": {
    "scrolled": true
   },
   "outputs": [
    {
     "data": {
      "text/html": [
       "<div>\n",
       "<style scoped>\n",
       "    .dataframe tbody tr th:only-of-type {\n",
       "        vertical-align: middle;\n",
       "    }\n",
       "\n",
       "    .dataframe tbody tr th {\n",
       "        vertical-align: top;\n",
       "    }\n",
       "\n",
       "    .dataframe thead th {\n",
       "        text-align: right;\n",
       "    }\n",
       "</style>\n",
       "<table border=\"1\" class=\"dataframe\">\n",
       "  <thead>\n",
       "    <tr style=\"text-align: right;\">\n",
       "      <th></th>\n",
       "      <th>OriginalLabel</th>\n",
       "      <th>Alcohol</th>\n",
       "      <th>Malic_Acid</th>\n",
       "      <th>Ash</th>\n",
       "      <th>Ash_Alcanity</th>\n",
       "      <th>Magnesium</th>\n",
       "      <th>Total_Phenols</th>\n",
       "      <th>Flavanoids</th>\n",
       "      <th>Nonflavanoid_Phenols</th>\n",
       "      <th>Proanthocyanins</th>\n",
       "      <th>Color_Intensity</th>\n",
       "      <th>Hue</th>\n",
       "      <th>OD280</th>\n",
       "      <th>Proline</th>\n",
       "    </tr>\n",
       "  </thead>\n",
       "  <tbody>\n",
       "    <tr>\n",
       "      <th>173</th>\n",
       "      <td>3</td>\n",
       "      <td>13.71</td>\n",
       "      <td>5.65</td>\n",
       "      <td>2.45</td>\n",
       "      <td>20.5</td>\n",
       "      <td>95</td>\n",
       "      <td>1.68</td>\n",
       "      <td>0.61</td>\n",
       "      <td>0.52</td>\n",
       "      <td>1.06</td>\n",
       "      <td>7.7</td>\n",
       "      <td>0.64</td>\n",
       "      <td>1.74</td>\n",
       "      <td>740</td>\n",
       "    </tr>\n",
       "    <tr>\n",
       "      <th>174</th>\n",
       "      <td>3</td>\n",
       "      <td>13.40</td>\n",
       "      <td>3.91</td>\n",
       "      <td>2.48</td>\n",
       "      <td>23.0</td>\n",
       "      <td>102</td>\n",
       "      <td>1.80</td>\n",
       "      <td>0.75</td>\n",
       "      <td>0.43</td>\n",
       "      <td>1.41</td>\n",
       "      <td>7.3</td>\n",
       "      <td>0.70</td>\n",
       "      <td>1.56</td>\n",
       "      <td>750</td>\n",
       "    </tr>\n",
       "    <tr>\n",
       "      <th>175</th>\n",
       "      <td>3</td>\n",
       "      <td>13.27</td>\n",
       "      <td>4.28</td>\n",
       "      <td>2.26</td>\n",
       "      <td>20.0</td>\n",
       "      <td>120</td>\n",
       "      <td>1.59</td>\n",
       "      <td>0.69</td>\n",
       "      <td>0.43</td>\n",
       "      <td>1.35</td>\n",
       "      <td>10.2</td>\n",
       "      <td>0.59</td>\n",
       "      <td>1.56</td>\n",
       "      <td>835</td>\n",
       "    </tr>\n",
       "    <tr>\n",
       "      <th>176</th>\n",
       "      <td>3</td>\n",
       "      <td>13.17</td>\n",
       "      <td>2.59</td>\n",
       "      <td>2.37</td>\n",
       "      <td>20.0</td>\n",
       "      <td>120</td>\n",
       "      <td>1.65</td>\n",
       "      <td>0.68</td>\n",
       "      <td>0.53</td>\n",
       "      <td>1.46</td>\n",
       "      <td>9.3</td>\n",
       "      <td>0.60</td>\n",
       "      <td>1.62</td>\n",
       "      <td>840</td>\n",
       "    </tr>\n",
       "    <tr>\n",
       "      <th>177</th>\n",
       "      <td>3</td>\n",
       "      <td>14.13</td>\n",
       "      <td>4.10</td>\n",
       "      <td>2.74</td>\n",
       "      <td>24.5</td>\n",
       "      <td>96</td>\n",
       "      <td>2.05</td>\n",
       "      <td>0.76</td>\n",
       "      <td>0.56</td>\n",
       "      <td>1.35</td>\n",
       "      <td>9.2</td>\n",
       "      <td>0.61</td>\n",
       "      <td>1.60</td>\n",
       "      <td>560</td>\n",
       "    </tr>\n",
       "  </tbody>\n",
       "</table>\n",
       "</div>"
      ],
      "text/plain": [
       "     OriginalLabel  Alcohol  Malic_Acid   Ash  Ash_Alcanity  Magnesium  \\\n",
       "173              3    13.71        5.65  2.45          20.5         95   \n",
       "174              3    13.40        3.91  2.48          23.0        102   \n",
       "175              3    13.27        4.28  2.26          20.0        120   \n",
       "176              3    13.17        2.59  2.37          20.0        120   \n",
       "177              3    14.13        4.10  2.74          24.5         96   \n",
       "\n",
       "     Total_Phenols  Flavanoids  Nonflavanoid_Phenols  Proanthocyanins  \\\n",
       "173           1.68        0.61                  0.52             1.06   \n",
       "174           1.80        0.75                  0.43             1.41   \n",
       "175           1.59        0.69                  0.43             1.35   \n",
       "176           1.65        0.68                  0.53             1.46   \n",
       "177           2.05        0.76                  0.56             1.35   \n",
       "\n",
       "     Color_Intensity   Hue  OD280  Proline  \n",
       "173              7.7  0.64   1.74      740  \n",
       "174              7.3  0.70   1.56      750  \n",
       "175             10.2  0.59   1.56      835  \n",
       "176              9.3  0.60   1.62      840  \n",
       "177              9.2  0.61   1.60      560  "
      ]
     },
     "execution_count": 25,
     "metadata": {},
     "output_type": "execute_result"
    }
   ],
   "source": [
    "data_labeled.tail(5)"
   ]
  },
  {
   "cell_type": "code",
   "execution_count": 26,
   "id": "ae52cc4f",
   "metadata": {},
   "outputs": [],
   "source": [
    "# Map the original labels to A, B, C \n",
    "conditions = [(data_labeled['OriginalLabel'] == 1), (data_labeled['OriginalLabel'] == 2),\n",
    "              (data_labeled['OriginalLabel'] == 3)]\n",
    "labels_con = ['A', 'B', 'C']\n",
    "data_labeled['LabelConverted'] = np.select(conditions, labels_con)"
   ]
  },
  {
   "cell_type": "code",
   "execution_count": 27,
   "id": "079f9e34",
   "metadata": {},
   "outputs": [],
   "source": [
    "# Store the original labels of A, B, C to a numpy array\n",
    "original_label = data_labeled['LabelConverted']\n",
    "original_label = original_label.to_numpy()"
   ]
  },
  {
   "cell_type": "code",
   "execution_count": 28,
   "id": "9a9cc46f",
   "metadata": {},
   "outputs": [
    {
     "data": {
      "text/plain": [
       "array(['A', 'A', 'A', 'A', 'A', 'A', 'A', 'A', 'A', 'A', 'A', 'A', 'A',\n",
       "       'A', 'A', 'A', 'A', 'A', 'A', 'A', 'A', 'A', 'A', 'A', 'A', 'A',\n",
       "       'A', 'A', 'A', 'A', 'A', 'A', 'A', 'A', 'A', 'A', 'A', 'A', 'A',\n",
       "       'A', 'A', 'A', 'A', 'A', 'A', 'A', 'A', 'A', 'A', 'A', 'A', 'A',\n",
       "       'A', 'A', 'A', 'A', 'A', 'A', 'A', 'B', 'B', 'B', 'B', 'B', 'B',\n",
       "       'B', 'B', 'B', 'B', 'B', 'B', 'B', 'B', 'B', 'B', 'B', 'B', 'B',\n",
       "       'B', 'B', 'B', 'B', 'B', 'B', 'B', 'B', 'B', 'B', 'B', 'B', 'B',\n",
       "       'B', 'B', 'B', 'B', 'B', 'B', 'B', 'B', 'B', 'B', 'B', 'B', 'B',\n",
       "       'B', 'B', 'B', 'B', 'B', 'B', 'B', 'B', 'B', 'B', 'B', 'B', 'B',\n",
       "       'B', 'B', 'B', 'B', 'B', 'B', 'B', 'B', 'B', 'B', 'B', 'B', 'B',\n",
       "       'C', 'C', 'C', 'C', 'C', 'C', 'C', 'C', 'C', 'C', 'C', 'C', 'C',\n",
       "       'C', 'C', 'C', 'C', 'C', 'C', 'C', 'C', 'C', 'C', 'C', 'C', 'C',\n",
       "       'C', 'C', 'C', 'C', 'C', 'C', 'C', 'C', 'C', 'C', 'C', 'C', 'C',\n",
       "       'C', 'C', 'C', 'C', 'C', 'C', 'C', 'C', 'C'], dtype=object)"
      ]
     },
     "execution_count": 28,
     "metadata": {},
     "output_type": "execute_result"
    }
   ],
   "source": [
    "original_label"
   ]
  },
  {
   "cell_type": "markdown",
   "id": "c5d5cda6",
   "metadata": {},
   "source": [
    "# Swapped the predicted labels to 'A', 'B', 'C'"
   ]
  },
  {
   "cell_type": "code",
   "execution_count": 29,
   "id": "3d05f63a",
   "metadata": {},
   "outputs": [],
   "source": [
    "# Swap labels based on the value of Alchohol\n",
    "# Supposed that A>C>B\n",
    "data2 = data.copy()\n",
    "data2['y_pred'] = y_scaled  \n",
    "# Calculate the average alcohol based on predicted value\n",
    "alc0 = np.mean(data2[data2['y_pred']==0]['Alcohol'])\n",
    "alc1 = np.mean(data2[data2['y_pred']==1]['Alcohol'])\n",
    "alc2 = np.mean(data2[data2['y_pred']==2]['Alcohol'])"
   ]
  },
  {
   "cell_type": "code",
   "execution_count": 30,
   "id": "c8884ce4",
   "metadata": {},
   "outputs": [],
   "source": [
    "# Swap label\n",
    "data2['y_pred_new'] = 3\n",
    "\n",
    "if (alc0 > alc1) & (alc0 > alc2):\n",
    "    data2.loc[data2.y_pred == 0, 'y_pred_new'] = 'A'\n",
    "    if alc1 > alc2:\n",
    "        data2.loc[data2.y_pred == 1, 'y_pred_new'] = 'C'\n",
    "        data2.loc[data2.y_pred == 2, 'y_pred_new'] = 'B'\n",
    "    else:\n",
    "        data2.loc[data2.y_pred == 1, 'y_pred_new'] = 'B'\n",
    "        data2.loc[data2.y_pred == 2, 'y_pred_new'] = 'C'\n",
    "elif alc1 > alc2:\n",
    "    data2.loc[data2.y_pred == 1, 'y_pred_new'] = 'A'\n",
    "    if alc0 > alc2:\n",
    "        data2.loc[data2.y_pred == 0, 'y_pred_new'] = 'C'\n",
    "        data2.loc[data2.y_pred == 2, 'y_pred_new'] = 'B'\n",
    "    else:\n",
    "        data2.loc[data2.y_pred == 0, 'y_pred_new'] = 'B'\n",
    "        data2.loc[data2.y_pred == 2, 'y_pred_new'] = 'C'\n",
    "else:\n",
    "    data2.loc[data2.y_pred == 2, 'y_pred_new'] = 'A'\n",
    "    if alc0 > alc1:\n",
    "        data2.loc[data2.y_pred == 0, 'y_pred_new'] = 'C'\n",
    "        data2.loc[data2.y_pred == 1, 'y_pred_new'] = 'B'\n",
    "    else:\n",
    "        data2.loc[data2.y_pred == 0, 'y_pred_new'] = 'B'\n",
    "        data2.loc[data2.y_pred == 1, 'y_pred_new'] = 'C'"
   ]
  },
  {
   "cell_type": "code",
   "execution_count": 31,
   "id": "f651788d",
   "metadata": {},
   "outputs": [],
   "source": [
    "# Store the new swapped predicted/clustered result into a numpy array\n",
    "label_pred_scaled = np.array(data2['y_pred_new'])"
   ]
  },
  {
   "cell_type": "code",
   "execution_count": 32,
   "id": "c333c51f",
   "metadata": {},
   "outputs": [],
   "source": [
    "# Stack the predicted label and the original label to form a new data frame\n",
    "acc_scaled = np.column_stack((label_pred_scaled,original_label))\n",
    "acc_df_scaled = pd.DataFrame(acc_scaled, columns = ['Predicted','Actual'])"
   ]
  },
  {
   "cell_type": "code",
   "execution_count": 33,
   "id": "f8a20e1e",
   "metadata": {},
   "outputs": [],
   "source": [
    "# Assign '1' if the predicted label match with the original/actual label\n",
    "acc_df_scaled['True'] = 0\n",
    "acc_df_scaled.loc[acc_df_scaled.Predicted == acc_df_scaled.Actual, 'True'] = 1"
   ]
  },
  {
   "cell_type": "code",
   "execution_count": 34,
   "id": "a3bc33d2",
   "metadata": {},
   "outputs": [],
   "source": [
    "# Calculate the accuracy\n",
    "acc_m1 = round(np.sum(acc_df_scaled['True'])/len(acc_df_scaled['True']) *100, 2)"
   ]
  },
  {
   "cell_type": "code",
   "execution_count": 35,
   "id": "ddfc7c44",
   "metadata": {},
   "outputs": [
    {
     "name": "stdout",
     "output_type": "stream",
     "text": [
      "96.63\n"
     ]
    }
   ],
   "source": [
    "print(acc_m1)"
   ]
  },
  {
   "cell_type": "markdown",
   "id": "44c50300",
   "metadata": {},
   "source": [
    "# Model 2: Apply PCA to reduce the number of features"
   ]
  },
  {
   "cell_type": "code",
   "execution_count": 36,
   "id": "e6b9cdef",
   "metadata": {},
   "outputs": [],
   "source": [
    "# Choose the number of components that keep 95% of the variance\n",
    "pca = PCA(n_components= 0.95)"
   ]
  },
  {
   "cell_type": "code",
   "execution_count": 37,
   "id": "864b8839",
   "metadata": {},
   "outputs": [],
   "source": [
    "# fit the data_scaled \n",
    "pca.fit(data_scaled)\n",
    "data_reduced = pca.transform(data_scaled)"
   ]
  },
  {
   "cell_type": "code",
   "execution_count": 38,
   "id": "9ff829c7",
   "metadata": {},
   "outputs": [
    {
     "data": {
      "text/plain": [
       "10"
      ]
     },
     "execution_count": 38,
     "metadata": {},
     "output_type": "execute_result"
    }
   ],
   "source": [
    "# see how many number of components are left\n",
    "len(data_reduced[0])"
   ]
  },
  {
   "cell_type": "code",
   "execution_count": 39,
   "id": "1f4805f6",
   "metadata": {},
   "outputs": [],
   "source": [
    "# Fit the kMeans model with 3 clusters\n",
    "kmeans = KMeans(n_clusters = 3, init = 'k-means++',random_state = 33)"
   ]
  },
  {
   "cell_type": "code",
   "execution_count": 40,
   "id": "8c19b79c",
   "metadata": {},
   "outputs": [],
   "source": [
    "# Return the labels of clusters\n",
    "y = kmeans.fit_predict(data_reduced)"
   ]
  },
  {
   "cell_type": "code",
   "execution_count": 41,
   "id": "7a22aeca",
   "metadata": {},
   "outputs": [
    {
     "name": "stdout",
     "output_type": "stream",
     "text": [
      "[0 0 0 0 0 0 0 0 0 0 0 0 0 0 0 0 0 0 0 0 0 0 0 0 0 0 0 0 0 0 0 0 0 0 0 0 0\n",
      " 0 0 0 0 0 0 0 0 0 0 0 0 0 0 0 0 0 0 0 0 0 0 2 2 1 2 2 2 2 2 2 2 2 2 2 2 0\n",
      " 2 2 2 2 2 2 2 2 2 1 2 2 2 2 2 2 2 2 2 2 2 0 2 2 2 2 2 2 2 2 2 2 2 2 2 2 2\n",
      " 2 2 2 2 2 2 2 1 2 2 0 2 2 2 2 2 2 2 2 1 1 1 1 1 1 1 1 1 1 1 1 1 1 1 1 1 1\n",
      " 1 1 1 1 1 1 1 1 1 1 1 1 1 1 1 1 1 1 1 1 1 1 1 1 1 1 1 1 1 1]\n"
     ]
    }
   ],
   "source": [
    "print(y)"
   ]
  },
  {
   "cell_type": "markdown",
   "id": "1711cda3",
   "metadata": {},
   "source": [
    "**Swapped the predicted labels to 'A', 'B', 'C'**"
   ]
  },
  {
   "cell_type": "code",
   "execution_count": 42,
   "id": "4b2249e8",
   "metadata": {},
   "outputs": [],
   "source": [
    "# Supposed that A>C>B\n",
    "data3 = data.copy()\n",
    "data3['y_pred'] = y\n",
    "# Calculate the average alcohol based on predicted value\n",
    "alc0 = np.mean(data3[data3['y_pred']==0]['Alcohol'])\n",
    "alc1 = np.mean(data3[data3['y_pred']==1]['Alcohol'])\n",
    "alc2 = np.mean(data3[data3['y_pred']==2]['Alcohol'])\n",
    "# Swap label\n",
    "data3['y_pred_new'] = 3\n",
    "\n",
    "if (alc0 > alc1) & (alc0 > alc2):\n",
    "    data3.loc[data3.y_pred == 0, 'y_pred_new'] = 'A'\n",
    "    if alc1 > alc2:\n",
    "        data3.loc[data3.y_pred == 1, 'y_pred_new'] = 'C'\n",
    "        data3.loc[data3.y_pred == 2, 'y_pred_new'] = 'B'\n",
    "    else:\n",
    "        data3.loc[data3.y_pred == 1, 'y_pred_new'] = 'B'\n",
    "        data3.loc[data3.y_pred == 2, 'y_pred_new'] = 'C'\n",
    "elif alc1 > alc2:\n",
    "    data3.loc[data3.y_pred == 1, 'y_pred_new'] = 'A'\n",
    "    if alc0 > alc2:\n",
    "        data3.loc[data3.y_pred == 0, 'y_pred_new'] = 'C'\n",
    "        data3.loc[data3.y_pred == 2, 'y_pred_new'] = 'B'\n",
    "    else:\n",
    "        data3.loc[data3.y_pred == 0, 'y_pred_new'] = 'B'\n",
    "        data3.loc[data3.y_pred == 2, 'y_pred_new'] = 'C'\n",
    "else:\n",
    "    data3.loc[data3.y_pred == 2, 'y_pred_new'] = 'A'\n",
    "    if alc0 > alc1:\n",
    "        data3.loc[data3.y_pred == 0, 'y_pred_new'] = 'C'\n",
    "        data3.loc[data3.y_pred == 1, 'y_pred_new'] = 'B'\n",
    "    else:\n",
    "        data3.loc[data3.y_pred == 0, 'y_pred_new'] = 'B'\n",
    "        data3.loc[data3.y_pred == 1, 'y_pred_new'] = 'C'"
   ]
  },
  {
   "cell_type": "code",
   "execution_count": 43,
   "id": "efaf871a",
   "metadata": {},
   "outputs": [],
   "source": [
    "# Store the predicted/clustered result into a numpy array\n",
    "label_pred = np.array(data3['y_pred_new'])"
   ]
  },
  {
   "cell_type": "code",
   "execution_count": 44,
   "id": "08321b4a",
   "metadata": {},
   "outputs": [],
   "source": [
    "# Stack the predicted label and the original label to form a new data frame\n",
    "acc = np.column_stack((label_pred,original_label))\n",
    "acc_df = pd.DataFrame(acc, columns = ['Predicted','Actual'])"
   ]
  },
  {
   "cell_type": "code",
   "execution_count": 45,
   "id": "0f230dc0",
   "metadata": {},
   "outputs": [],
   "source": [
    "# Assign '1' if the predicted label match with the original/actual label\n",
    "acc_df['True'] = 0\n",
    "acc_df.loc[acc_df.Predicted == acc_df.Actual, 'True'] = 1"
   ]
  },
  {
   "cell_type": "code",
   "execution_count": 46,
   "id": "0c9ee27a",
   "metadata": {},
   "outputs": [],
   "source": [
    "# Calculate the accuracy\n",
    "acc_m2 =round(np.sum(acc_df['True'])/len(acc_df['True']) *100, 2)"
   ]
  },
  {
   "cell_type": "code",
   "execution_count": 47,
   "id": "50d85d0b",
   "metadata": {},
   "outputs": [
    {
     "name": "stdout",
     "output_type": "stream",
     "text": [
      "96.63\n"
     ]
    }
   ],
   "source": [
    "print(acc_m2)"
   ]
  },
  {
   "cell_type": "markdown",
   "id": "6d354ab2",
   "metadata": {},
   "source": [
    "# Model 3: Experiment with selected features:"
   ]
  },
  {
   "cell_type": "markdown",
   "id": "64d1f185",
   "metadata": {},
   "source": [
    "**Alcohol, Ash, Color_Intensity**"
   ]
  },
  {
   "cell_type": "code",
   "execution_count": 48,
   "id": "57297946",
   "metadata": {},
   "outputs": [],
   "source": [
    "data_copy = data.copy()"
   ]
  },
  {
   "cell_type": "code",
   "execution_count": 49,
   "id": "885ae2b3",
   "metadata": {},
   "outputs": [],
   "source": [
    "data_selected = data_copy[['Alcohol','Ash', 'Color_Intensity']]"
   ]
  },
  {
   "cell_type": "code",
   "execution_count": 50,
   "id": "9ae31923",
   "metadata": {},
   "outputs": [],
   "source": [
    "# Feature scaling with the standard scaler\n",
    "scaler = StandardScaler()\n",
    "data_scaled_selected = scaler.fit_transform(data_selected)"
   ]
  },
  {
   "cell_type": "code",
   "execution_count": 51,
   "id": "afe5ac2a",
   "metadata": {},
   "outputs": [],
   "source": [
    "# Fit the kMeans model with 3 clusters\n",
    "kmeans = KMeans(n_clusters = 3, init = 'k-means++',random_state = 33)"
   ]
  },
  {
   "cell_type": "code",
   "execution_count": 52,
   "id": "178f2790",
   "metadata": {},
   "outputs": [],
   "source": [
    "# Return the labels of clusters\n",
    "y_scaled_selected = kmeans.fit_predict(data_scaled_selected)"
   ]
  },
  {
   "cell_type": "code",
   "execution_count": 53,
   "id": "f8649208",
   "metadata": {},
   "outputs": [
    {
     "name": "stdout",
     "output_type": "stream",
     "text": [
      "[1 0 1 1 2 1 1 1 1 1 1 1 1 1 1 1 1 1 1 1 1 2 1 2 2 2 1 0 1 1 1 1 1 1 1 1 2\n",
      " 2 0 1 1 0 1 1 0 1 1 1 1 1 1 1 1 1 1 1 1 1 1 0 0 0 0 0 2 2 0 0 0 0 0 1 0 2\n",
      " 0 0 0 0 0 2 0 0 2 1 2 0 0 2 2 0 0 2 0 0 0 0 2 0 0 0 0 0 2 0 0 0 0 0 0 2 0\n",
      " 0 2 2 2 0 0 0 0 0 2 2 2 0 2 0 0 2 0 2 0 1 1 2 0 1 2 2 1 2 2 1 1 1 1 0 1 1\n",
      " 1 1 1 1 1 1 1 1 1 1 1 1 1 1 2 1 1 1 1 1 1 1 0 1 1 1 1 1 1 1]\n"
     ]
    }
   ],
   "source": [
    "print(y_scaled_selected)"
   ]
  },
  {
   "cell_type": "markdown",
   "id": "76074a5c",
   "metadata": {},
   "source": [
    "**Swapped the predicted labels to 'A', 'B', 'C'**"
   ]
  },
  {
   "cell_type": "code",
   "execution_count": 54,
   "id": "fa2ac109",
   "metadata": {},
   "outputs": [],
   "source": [
    "# Supposed that A>C>B\n",
    "data4 = data.copy()\n",
    "data4['y_pred'] = y_scaled_selected\n",
    "# Calculate the average alcohol based on predicted value\n",
    "alc0 = np.mean(data4[data4['y_pred']==0]['Alcohol'])\n",
    "alc1 = np.mean(data4[data4['y_pred']==1]['Alcohol'])\n",
    "alc2 = np.mean(data4[data4['y_pred']==2]['Alcohol'])\n",
    "\n",
    "# Swap label\n",
    "data4['y_pred_new'] = 3\n",
    "\n",
    "if (alc0 > alc1) & (alc0 > alc2):\n",
    "    data4.loc[data4.y_pred == 0, 'y_pred_new'] = 'A'\n",
    "    if alc1 > alc2:\n",
    "        data4.loc[data4.y_pred == 1, 'y_pred_new'] = 'C'\n",
    "        data4.loc[data4.y_pred == 2, 'y_pred_new'] = 'B'\n",
    "    else:\n",
    "        data4.loc[data4.y_pred == 1, 'y_pred_new'] = 'B'\n",
    "        data4.loc[data4.y_pred == 2, 'y_pred_new'] = 'C'\n",
    "elif alc1 > alc2:\n",
    "    data4.loc[data4.y_pred == 1, 'y_pred_new'] = 'A'\n",
    "    if alc0 > alc2:\n",
    "        data4.loc[data4.y_pred == 0, 'y_pred_new'] = 'C'\n",
    "        data4.loc[data4.y_pred == 2, 'y_pred_new'] = 'B'\n",
    "    else:\n",
    "        data4.loc[data4.y_pred == 0, 'y_pred_new'] = 'B'\n",
    "        data4.loc[data4.y_pred == 2, 'y_pred_new'] = 'C'\n",
    "else:\n",
    "    data4.loc[data4.y_pred == 2, 'y_pred_new'] = 'A'\n",
    "    if alc0 > alc1:\n",
    "        data4.loc[data4.y_pred == 0, 'y_pred_new'] = 'C'\n",
    "        data4.loc[data4.y_pred == 1, 'y_pred_new'] = 'B'\n",
    "    else:\n",
    "        data4.loc[data4.y_pred == 0, 'y_pred_new'] = 'B'\n",
    "        data4.loc[data4.y_pred == 1, 'y_pred_new'] = 'C'"
   ]
  },
  {
   "cell_type": "code",
   "execution_count": 55,
   "id": "2cc62997",
   "metadata": {},
   "outputs": [],
   "source": [
    "# Store the predicted/clustered result into a numpy array\n",
    "label_pred_selected = np.array(data4['y_pred_new'])"
   ]
  },
  {
   "cell_type": "code",
   "execution_count": 56,
   "id": "2086f181",
   "metadata": {},
   "outputs": [],
   "source": [
    "# Stack the predicted label and the original label to form a new data frame\n",
    "acc_selected = np.column_stack((label_pred_selected,original_label))\n",
    "acc_df_selected = pd.DataFrame(acc_selected, columns = ['Predicted','Actual'])"
   ]
  },
  {
   "cell_type": "code",
   "execution_count": 57,
   "id": "8363e835",
   "metadata": {},
   "outputs": [],
   "source": [
    "# Assign '1' if the predicted label match with the original/actual label\n",
    "acc_df_selected['True'] = 0\n",
    "acc_df_selected.loc[acc_df_selected.Predicted == acc_df_selected.Actual, 'True'] = 1"
   ]
  },
  {
   "cell_type": "code",
   "execution_count": 58,
   "id": "d47db47a",
   "metadata": {},
   "outputs": [],
   "source": [
    "# Calculate the accuracy\n",
    "acc_m3 =round(np.sum(acc_df_selected['True'])/len(acc_df_selected['True']) *100, 2)"
   ]
  },
  {
   "cell_type": "code",
   "execution_count": 59,
   "id": "72228ea3",
   "metadata": {},
   "outputs": [
    {
     "name": "stdout",
     "output_type": "stream",
     "text": [
      "40.45\n"
     ]
    }
   ],
   "source": [
    "print(acc_m3)"
   ]
  },
  {
   "cell_type": "markdown",
   "id": "c2e2228f",
   "metadata": {},
   "source": [
    "# Model 4: Experiment with selected features:"
   ]
  },
  {
   "cell_type": "markdown",
   "id": "96a40d71",
   "metadata": {},
   "source": [
    "**Alcohol, Malic_Acid, Color_Intensity (Replace Ash in model 3 with Malic_Acid)**"
   ]
  },
  {
   "cell_type": "code",
   "execution_count": 60,
   "id": "cb569217",
   "metadata": {},
   "outputs": [],
   "source": [
    "data_selected = data_copy[['Alcohol', 'Malic_Acid', 'Color_Intensity']]"
   ]
  },
  {
   "cell_type": "code",
   "execution_count": 61,
   "id": "b060b2af",
   "metadata": {},
   "outputs": [],
   "source": [
    "# Feature scaling with the standard scaler\n",
    "scaler = StandardScaler()\n",
    "data_scaled_selected = scaler.fit_transform(data_selected)"
   ]
  },
  {
   "cell_type": "code",
   "execution_count": 62,
   "id": "9739facd",
   "metadata": {},
   "outputs": [],
   "source": [
    "# Fit the kMeans model with 3 clusters\n",
    "kmeans = KMeans(n_clusters = 3, init = 'k-means++',random_state = 33)"
   ]
  },
  {
   "cell_type": "code",
   "execution_count": 63,
   "id": "cbdbf1c2",
   "metadata": {},
   "outputs": [],
   "source": [
    "# Return the labels of clusters\n",
    "y_scaled_selected = kmeans.fit_predict(data_scaled_selected)"
   ]
  },
  {
   "cell_type": "code",
   "execution_count": 64,
   "id": "fbdb7d8a",
   "metadata": {},
   "outputs": [
    {
     "name": "stdout",
     "output_type": "stream",
     "text": [
      "[0 0 0 0 0 0 0 0 0 0 0 0 0 0 0 0 0 0 0 2 0 2 0 1 0 1 0 0 0 0 0 0 0 0 0 0 0\n",
      " 1 1 2 0 2 0 2 0 2 2 0 0 0 0 0 0 0 0 0 0 0 0 1 1 1 0 1 1 1 0 1 1 1 1 0 0 1\n",
      " 1 1 1 1 1 2 1 1 1 2 1 1 1 1 1 1 1 1 1 1 1 1 1 1 1 1 1 1 1 1 1 1 1 1 1 1 1\n",
      " 1 1 1 1 1 1 1 2 1 1 1 2 2 2 1 1 1 1 2 1 2 0 2 1 2 2 2 2 2 2 0 2 2 2 2 2 2\n",
      " 2 2 2 2 0 2 0 2 2 2 0 0 2 2 2 2 0 2 2 2 0 2 2 0 0 2 2 2 0 2]\n"
     ]
    }
   ],
   "source": [
    "print(y_scaled_selected)"
   ]
  },
  {
   "cell_type": "code",
   "execution_count": 65,
   "id": "fc8321af",
   "metadata": {},
   "outputs": [],
   "source": [
    "# Supposed that A>C>B\n",
    "data5 = data.copy()\n",
    "data5['y_pred'] = y_scaled_selected\n",
    "# Calculate the average alcohol based on predicted value\n",
    "alc0 = np.mean(data5[data5['y_pred']==0]['Alcohol'])\n",
    "alc1 = np.mean(data5[data5['y_pred']==1]['Alcohol'])\n",
    "alc2 = np.mean(data5[data5['y_pred']==2]['Alcohol'])\n",
    "\n",
    "# Swap label\n",
    "data5['y_pred_new'] = 3\n",
    "\n",
    "if (alc0 > alc1) & (alc0 > alc2):\n",
    "    data5.loc[data5.y_pred == 0, 'y_pred_new'] = 'A'\n",
    "    if alc1 > alc2:\n",
    "        data5.loc[data5.y_pred == 1, 'y_pred_new'] = 'C'\n",
    "        data5.loc[data5.y_pred == 2, 'y_pred_new'] = 'B'\n",
    "    else:\n",
    "        data5.loc[data5.y_pred == 1, 'y_pred_new'] = 'B'\n",
    "        data5.loc[data5.y_pred == 2, 'y_pred_new'] = 'C'\n",
    "elif alc1 > alc2:\n",
    "    data5.loc[data5.y_pred == 1, 'y_pred_new'] = 'A'\n",
    "    if alc0 > alc2:\n",
    "        data5.loc[data5.y_pred == 0, 'y_pred_new'] = 'C'\n",
    "        data5.loc[data5.y_pred == 2, 'y_pred_new'] = 'B'\n",
    "    else:\n",
    "        data5.loc[data5.y_pred == 0, 'y_pred_new'] = 'B'\n",
    "        data5.loc[data5.y_pred == 2, 'y_pred_new'] = 'C'\n",
    "else:\n",
    "    data5.loc[data5.y_pred == 2, 'y_pred_new'] = 'A'\n",
    "    if alc0 > alc1:\n",
    "        data5.loc[data5.y_pred == 0, 'y_pred_new'] = 'C'\n",
    "        data5.loc[data5.y_pred == 1, 'y_pred_new'] = 'B'\n",
    "    else:\n",
    "        data5.loc[data5.y_pred == 0, 'y_pred_new'] = 'B'\n",
    "        data5.loc[data5.y_pred == 1, 'y_pred_new'] = 'C'"
   ]
  },
  {
   "cell_type": "code",
   "execution_count": 66,
   "id": "6e056a31",
   "metadata": {},
   "outputs": [],
   "source": [
    "# Store the predicted/clustered result into a numpy array\n",
    "label_pred_selected = np.array(data5['y_pred_new'])"
   ]
  },
  {
   "cell_type": "code",
   "execution_count": 67,
   "id": "72ba40ce",
   "metadata": {},
   "outputs": [],
   "source": [
    "# Stack the predicted label and the original label to form a new data frame\n",
    "acc_selected = np.column_stack((label_pred_selected,original_label))\n",
    "acc_df_selected = pd.DataFrame(acc_selected, columns = ['Predicted','Actual'])"
   ]
  },
  {
   "cell_type": "code",
   "execution_count": 68,
   "id": "ac26e3b2",
   "metadata": {},
   "outputs": [],
   "source": [
    "# Assign '1' if the predicted label match with the original/actual label\n",
    "acc_df_selected['True'] = 0\n",
    "acc_df_selected.loc[acc_df_selected.Predicted == acc_df_selected.Actual, 'True'] = 1"
   ]
  },
  {
   "cell_type": "code",
   "execution_count": 69,
   "id": "24b8c464",
   "metadata": {},
   "outputs": [],
   "source": [
    "# Calculate the accuracy\n",
    "acc_m4 =round(np.sum(acc_df_selected['True'])/len(acc_df_selected['True']) *100, 2)"
   ]
  },
  {
   "cell_type": "code",
   "execution_count": 70,
   "id": "1c1a1963",
   "metadata": {},
   "outputs": [
    {
     "name": "stdout",
     "output_type": "stream",
     "text": [
      "80.34\n"
     ]
    }
   ],
   "source": [
    "print(acc_m4)"
   ]
  },
  {
   "cell_type": "markdown",
   "id": "63f6e094",
   "metadata": {},
   "source": [
    "****Prompt: Report the accuracy of your model. Either through RMSE or another metric. How did accuracy change with your parameter tinkering?****"
   ]
  },
  {
   "cell_type": "code",
   "execution_count": 71,
   "id": "faf023a0",
   "metadata": {},
   "outputs": [
    {
     "name": "stdout",
     "output_type": "stream",
     "text": [
      "Accuracy of Model 1 with all 13 features - 96.63%\n",
      "Accuracy of Model 2 using PCA - 96.63%\n",
      "Accuracy of Model 3 with features as Alcohol, Ash, Color_Intensity - 40.45%\n",
      "Accuracy of Model 4 with features as Alcohol, Malic_Acid, Color_Intensity - 80.34%\n"
     ]
    }
   ],
   "source": [
    "print('Accuracy of Model 1 with all 13 features - ' + str(acc_m1) + '%')\n",
    "print('Accuracy of Model 2 using PCA - ' + str(acc_m2) + '%')\n",
    "print('Accuracy of Model 3 with features as Alcohol, Ash, Color_Intensity - ' + str(acc_m3) + '%')\n",
    "print('Accuracy of Model 4 with features as Alcohol, Malic_Acid, Color_Intensity - ' + str(acc_m4) + '%')"
   ]
  },
  {
   "cell_type": "markdown",
   "id": "41155789",
   "metadata": {},
   "source": [
    "***Explanation***"
   ]
  },
  {
   "cell_type": "markdown",
   "id": "3ee11579",
   "metadata": {},
   "source": [
    "Model 1 & Model 2: \\ The reason that the accuracy of model 2 has the the accuracy as high as model 1 is that in the PCA analysis, 95% of variance is kept, and the number of features reduce by 3 (from 13 to 10). Therefore, model 1 and model 2 do not vary much.\n",
    "\n",
    "Model 3: \\ I maually picked 3 features purly based on intuition to experiment what would happen if I only keep 3 features to carry on this clustering task. And the model does not perform well, with a low accuracy of 40.45%.\n",
    "\n",
    "Model 4:\\ I replaced Ash in model 3 with Malic_Acid so that I have 3 features that are relatively easier to observe and interpret. People can have intuitive judgement on the alcohol level of wines, and the malic acid through tasting, and the color intensity through observing. So, I want to see if it is feasible to tell the type of grapes based on these 3 features. And the accuracy of 80.34% is good considering there are only 3 features."
   ]
  },
  {
   "cell_type": "markdown",
   "id": "4e2a83e2",
   "metadata": {},
   "source": [
    "# Prompt: Create a visualization demonstrating your findings"
   ]
  },
  {
   "cell_type": "code",
   "execution_count": 72,
   "id": "9a47e049",
   "metadata": {},
   "outputs": [],
   "source": [
    "# Make a copy of the original dataset\n",
    "data_v = data.copy()"
   ]
  },
  {
   "cell_type": "code",
   "execution_count": 73,
   "id": "f780b6a9",
   "metadata": {},
   "outputs": [
    {
     "data": {
      "text/html": [
       "<div>\n",
       "<style scoped>\n",
       "    .dataframe tbody tr th:only-of-type {\n",
       "        vertical-align: middle;\n",
       "    }\n",
       "\n",
       "    .dataframe tbody tr th {\n",
       "        vertical-align: top;\n",
       "    }\n",
       "\n",
       "    .dataframe thead th {\n",
       "        text-align: right;\n",
       "    }\n",
       "</style>\n",
       "<table border=\"1\" class=\"dataframe\">\n",
       "  <thead>\n",
       "    <tr style=\"text-align: right;\">\n",
       "      <th></th>\n",
       "      <th>Alcohol</th>\n",
       "      <th>Malic_Acid</th>\n",
       "      <th>Ash</th>\n",
       "      <th>Ash_Alcanity</th>\n",
       "      <th>Magnesium</th>\n",
       "      <th>Total_Phenols</th>\n",
       "      <th>Flavanoids</th>\n",
       "      <th>Nonflavanoid_Phenols</th>\n",
       "      <th>Proanthocyanins</th>\n",
       "      <th>Color_Intensity</th>\n",
       "      <th>Hue</th>\n",
       "      <th>OD280</th>\n",
       "      <th>Proline</th>\n",
       "      <th>Cluster_label</th>\n",
       "    </tr>\n",
       "  </thead>\n",
       "  <tbody>\n",
       "    <tr>\n",
       "      <th>0</th>\n",
       "      <td>14.23</td>\n",
       "      <td>1.71</td>\n",
       "      <td>2.43</td>\n",
       "      <td>15.6</td>\n",
       "      <td>127</td>\n",
       "      <td>2.8</td>\n",
       "      <td>3.06</td>\n",
       "      <td>0.28</td>\n",
       "      <td>2.29</td>\n",
       "      <td>5.64</td>\n",
       "      <td>1.04</td>\n",
       "      <td>3.92</td>\n",
       "      <td>1065</td>\n",
       "      <td>A</td>\n",
       "    </tr>\n",
       "  </tbody>\n",
       "</table>\n",
       "</div>"
      ],
      "text/plain": [
       "   Alcohol  Malic_Acid   Ash  Ash_Alcanity  Magnesium  Total_Phenols  \\\n",
       "0    14.23        1.71  2.43          15.6        127            2.8   \n",
       "\n",
       "   Flavanoids  Nonflavanoid_Phenols  Proanthocyanins  Color_Intensity   Hue  \\\n",
       "0        3.06                  0.28             2.29             5.64  1.04   \n",
       "\n",
       "   OD280  Proline Cluster_label  \n",
       "0   3.92     1065             A  "
      ]
     },
     "execution_count": 73,
     "metadata": {},
     "output_type": "execute_result"
    }
   ],
   "source": [
    "# Create a new column to store the cluster label\n",
    "data_v['Cluster_label'] = label_pred_selected.tolist()\n",
    "data_v.head(1)"
   ]
  },
  {
   "cell_type": "code",
   "execution_count": 74,
   "id": "9887799e",
   "metadata": {},
   "outputs": [
    {
     "data": {
      "text/html": [
       "<div>\n",
       "<style scoped>\n",
       "    .dataframe tbody tr th:only-of-type {\n",
       "        vertical-align: middle;\n",
       "    }\n",
       "\n",
       "    .dataframe tbody tr th {\n",
       "        vertical-align: top;\n",
       "    }\n",
       "\n",
       "    .dataframe thead th {\n",
       "        text-align: right;\n",
       "    }\n",
       "</style>\n",
       "<table border=\"1\" class=\"dataframe\">\n",
       "  <thead>\n",
       "    <tr style=\"text-align: right;\">\n",
       "      <th></th>\n",
       "      <th>Alcohol</th>\n",
       "      <th>Malic_Acid</th>\n",
       "      <th>Ash</th>\n",
       "      <th>Ash_Alcanity</th>\n",
       "      <th>Magnesium</th>\n",
       "      <th>Total_Phenols</th>\n",
       "      <th>Flavanoids</th>\n",
       "      <th>Nonflavanoid_Phenols</th>\n",
       "      <th>Proanthocyanins</th>\n",
       "      <th>Color_Intensity</th>\n",
       "      <th>Hue</th>\n",
       "      <th>OD280</th>\n",
       "      <th>Proline</th>\n",
       "      <th>Cluster_label</th>\n",
       "    </tr>\n",
       "  </thead>\n",
       "  <tbody>\n",
       "    <tr>\n",
       "      <th>0</th>\n",
       "      <td>14.23</td>\n",
       "      <td>1.71</td>\n",
       "      <td>2.43</td>\n",
       "      <td>15.6</td>\n",
       "      <td>127</td>\n",
       "      <td>2.80</td>\n",
       "      <td>3.06</td>\n",
       "      <td>0.28</td>\n",
       "      <td>2.29</td>\n",
       "      <td>5.64</td>\n",
       "      <td>1.04</td>\n",
       "      <td>3.92</td>\n",
       "      <td>1065</td>\n",
       "      <td>A</td>\n",
       "    </tr>\n",
       "    <tr>\n",
       "      <th>1</th>\n",
       "      <td>13.20</td>\n",
       "      <td>1.78</td>\n",
       "      <td>2.14</td>\n",
       "      <td>11.2</td>\n",
       "      <td>100</td>\n",
       "      <td>2.65</td>\n",
       "      <td>2.76</td>\n",
       "      <td>0.26</td>\n",
       "      <td>1.28</td>\n",
       "      <td>4.38</td>\n",
       "      <td>1.05</td>\n",
       "      <td>3.40</td>\n",
       "      <td>1050</td>\n",
       "      <td>A</td>\n",
       "    </tr>\n",
       "    <tr>\n",
       "      <th>2</th>\n",
       "      <td>13.16</td>\n",
       "      <td>2.36</td>\n",
       "      <td>2.67</td>\n",
       "      <td>18.6</td>\n",
       "      <td>101</td>\n",
       "      <td>2.80</td>\n",
       "      <td>3.24</td>\n",
       "      <td>0.30</td>\n",
       "      <td>2.81</td>\n",
       "      <td>5.68</td>\n",
       "      <td>1.03</td>\n",
       "      <td>3.17</td>\n",
       "      <td>1185</td>\n",
       "      <td>A</td>\n",
       "    </tr>\n",
       "    <tr>\n",
       "      <th>3</th>\n",
       "      <td>14.37</td>\n",
       "      <td>1.95</td>\n",
       "      <td>2.50</td>\n",
       "      <td>16.8</td>\n",
       "      <td>113</td>\n",
       "      <td>3.85</td>\n",
       "      <td>3.49</td>\n",
       "      <td>0.24</td>\n",
       "      <td>2.18</td>\n",
       "      <td>7.80</td>\n",
       "      <td>0.86</td>\n",
       "      <td>3.45</td>\n",
       "      <td>1480</td>\n",
       "      <td>A</td>\n",
       "    </tr>\n",
       "    <tr>\n",
       "      <th>4</th>\n",
       "      <td>13.24</td>\n",
       "      <td>2.59</td>\n",
       "      <td>2.87</td>\n",
       "      <td>21.0</td>\n",
       "      <td>118</td>\n",
       "      <td>2.80</td>\n",
       "      <td>2.69</td>\n",
       "      <td>0.39</td>\n",
       "      <td>1.82</td>\n",
       "      <td>4.32</td>\n",
       "      <td>1.04</td>\n",
       "      <td>2.93</td>\n",
       "      <td>735</td>\n",
       "      <td>A</td>\n",
       "    </tr>\n",
       "    <tr>\n",
       "      <th>5</th>\n",
       "      <td>14.20</td>\n",
       "      <td>1.76</td>\n",
       "      <td>2.45</td>\n",
       "      <td>15.2</td>\n",
       "      <td>112</td>\n",
       "      <td>3.27</td>\n",
       "      <td>3.39</td>\n",
       "      <td>0.34</td>\n",
       "      <td>1.97</td>\n",
       "      <td>6.75</td>\n",
       "      <td>1.05</td>\n",
       "      <td>2.85</td>\n",
       "      <td>1450</td>\n",
       "      <td>A</td>\n",
       "    </tr>\n",
       "    <tr>\n",
       "      <th>6</th>\n",
       "      <td>14.39</td>\n",
       "      <td>1.87</td>\n",
       "      <td>2.45</td>\n",
       "      <td>14.6</td>\n",
       "      <td>96</td>\n",
       "      <td>2.50</td>\n",
       "      <td>2.52</td>\n",
       "      <td>0.30</td>\n",
       "      <td>1.98</td>\n",
       "      <td>5.25</td>\n",
       "      <td>1.02</td>\n",
       "      <td>3.58</td>\n",
       "      <td>1290</td>\n",
       "      <td>A</td>\n",
       "    </tr>\n",
       "    <tr>\n",
       "      <th>7</th>\n",
       "      <td>14.06</td>\n",
       "      <td>2.15</td>\n",
       "      <td>2.61</td>\n",
       "      <td>17.6</td>\n",
       "      <td>121</td>\n",
       "      <td>2.60</td>\n",
       "      <td>2.51</td>\n",
       "      <td>0.31</td>\n",
       "      <td>1.25</td>\n",
       "      <td>5.05</td>\n",
       "      <td>1.06</td>\n",
       "      <td>3.58</td>\n",
       "      <td>1295</td>\n",
       "      <td>A</td>\n",
       "    </tr>\n",
       "    <tr>\n",
       "      <th>8</th>\n",
       "      <td>14.83</td>\n",
       "      <td>1.64</td>\n",
       "      <td>2.17</td>\n",
       "      <td>14.0</td>\n",
       "      <td>97</td>\n",
       "      <td>2.80</td>\n",
       "      <td>2.98</td>\n",
       "      <td>0.29</td>\n",
       "      <td>1.98</td>\n",
       "      <td>5.20</td>\n",
       "      <td>1.08</td>\n",
       "      <td>2.85</td>\n",
       "      <td>1045</td>\n",
       "      <td>A</td>\n",
       "    </tr>\n",
       "    <tr>\n",
       "      <th>9</th>\n",
       "      <td>13.86</td>\n",
       "      <td>1.35</td>\n",
       "      <td>2.27</td>\n",
       "      <td>16.0</td>\n",
       "      <td>98</td>\n",
       "      <td>2.98</td>\n",
       "      <td>3.15</td>\n",
       "      <td>0.22</td>\n",
       "      <td>1.85</td>\n",
       "      <td>7.22</td>\n",
       "      <td>1.01</td>\n",
       "      <td>3.55</td>\n",
       "      <td>1045</td>\n",
       "      <td>A</td>\n",
       "    </tr>\n",
       "  </tbody>\n",
       "</table>\n",
       "</div>"
      ],
      "text/plain": [
       "   Alcohol  Malic_Acid   Ash  Ash_Alcanity  Magnesium  Total_Phenols  \\\n",
       "0    14.23        1.71  2.43          15.6        127           2.80   \n",
       "1    13.20        1.78  2.14          11.2        100           2.65   \n",
       "2    13.16        2.36  2.67          18.6        101           2.80   \n",
       "3    14.37        1.95  2.50          16.8        113           3.85   \n",
       "4    13.24        2.59  2.87          21.0        118           2.80   \n",
       "5    14.20        1.76  2.45          15.2        112           3.27   \n",
       "6    14.39        1.87  2.45          14.6         96           2.50   \n",
       "7    14.06        2.15  2.61          17.6        121           2.60   \n",
       "8    14.83        1.64  2.17          14.0         97           2.80   \n",
       "9    13.86        1.35  2.27          16.0         98           2.98   \n",
       "\n",
       "   Flavanoids  Nonflavanoid_Phenols  Proanthocyanins  Color_Intensity   Hue  \\\n",
       "0        3.06                  0.28             2.29             5.64  1.04   \n",
       "1        2.76                  0.26             1.28             4.38  1.05   \n",
       "2        3.24                  0.30             2.81             5.68  1.03   \n",
       "3        3.49                  0.24             2.18             7.80  0.86   \n",
       "4        2.69                  0.39             1.82             4.32  1.04   \n",
       "5        3.39                  0.34             1.97             6.75  1.05   \n",
       "6        2.52                  0.30             1.98             5.25  1.02   \n",
       "7        2.51                  0.31             1.25             5.05  1.06   \n",
       "8        2.98                  0.29             1.98             5.20  1.08   \n",
       "9        3.15                  0.22             1.85             7.22  1.01   \n",
       "\n",
       "   OD280  Proline Cluster_label  \n",
       "0   3.92     1065             A  \n",
       "1   3.40     1050             A  \n",
       "2   3.17     1185             A  \n",
       "3   3.45     1480             A  \n",
       "4   2.93      735             A  \n",
       "5   2.85     1450             A  \n",
       "6   3.58     1290             A  \n",
       "7   3.58     1295             A  \n",
       "8   2.85     1045             A  \n",
       "9   3.55     1045             A  "
      ]
     },
     "execution_count": 74,
     "metadata": {},
     "output_type": "execute_result"
    }
   ],
   "source": [
    "# Create a new column to store the cluster label\n",
    "data_v['Cluster_label'] = label_pred_selected.tolist()\n",
    "data_v.head(10)"
   ]
  },
  {
   "cell_type": "code",
   "execution_count": 78,
   "id": "6593a58f",
   "metadata": {},
   "outputs": [
    {
     "data": {
      "image/png": "[encoded data removed]",
      "text/plain": [
       "<Figure size 1080x1440 with 13 Axes>"
      ]
     },
     "metadata": {
      "needs_background": "light"
     },
     "output_type": "display_data"
    }
   ],
   "source": [
    "# Boxplots of Model 1\n",
    "%matplotlib inline\n",
    "import matplotlib.pyplot as plt\n",
    "plt.figure(figsize = (15, 20))\n",
    "for i in enumerate(data_v.columns[:-1]):\n",
    "    plt.subplot(5, 3, i[0] + 1)\n",
    "    sns.boxplot(x = data_v.Cluster_label, y = data_v[i[1]], palette=\"Set2\")\n",
    "    plt.xlabel('Cluster_label')\n",
    "    plt.ylabel(i[1])\n",
    "plt.suptitle('Boxplots of 13 attributes over 3 clusters', fontsize = 20)\n",
    "plt.subplots_adjust(top= 0.95)"
   ]
  },
  {
   "cell_type": "markdown",
   "id": "a3f94d9e",
   "metadata": {},
   "source": [
    "***Findings***"
   ]
  },
  {
   "cell_type": "markdown",
   "id": "a0f58507",
   "metadata": {},
   "source": [
    "Based on the boxplot, these 3 clusters have obvious variance in features including Alcohol, Malic_Acid, Total_Phenols, Flavanoids, Color_Intensity, Hue, OD280, and Proline, while the variance is not much in the remaining 5 features.\n",
    "\n",
    "This indicates that the primary differences of grape types/cultivars lie in Alcohol, Malic_Acid, Total_Phenols, Flavanoids, Color_Intensity, Hue, OD280, and Proline.\n",
    "\n",
    "***Prompt: What challenges did you run into? Do you think it was because of the data, the model, the research question? How would you overcome these challenges?***\n",
    "\n",
    "\n",
    "Previously, each time I run the models, the labels automatically generated are different. For instance, the first observation may be labeled as 1 in first run, and its label may become 2 in the second run. This is challenging because I want to compare the predicted labels with the original/actual labels (which are static).\n",
    "\n",
    "This is caused by the kMeans model itself. The changing labels are caused by the kMeans model randomly initializing its starting centroids every time.\n",
    "\n",
    "Solution: Swap the labels based on the average level of alcohol. In the dataset with original labels, cluster A has the highest alcohol level, followed by cluster C, cluster B has the lowest level. Based on this attribute, first compute the average alcohol level for predicted clusters, then assign the corresponding labels to these cluster.\n",
    "\n",
    "\n",
    "\n",
    "****Prompt: Name 2 potential benefits of your model and 2 potential harms****\n",
    "\n",
    "Potential benefits:\n",
    "\n",
    "(1) This kMeans clustering model helps reveal the underlying diffrences among grape types. Also, given no label informtion of the wines, the kMeans algorithm can help cluster the types at a fairly high accuracy rate over 95% (model 1). So, this can be applied to increase traceability of wines simply through chemical analysis, given no other information.\n",
    "\n",
    "(2) The model 3 with only 3 features (Alcohol, Malic_Acid, Color_Intensity) has a fairly good accuracy of 80.34%. It helps lower the barrier of chemical testing (only need to run tests for 3 measurements) to identify the type of wines.\n",
    "\n",
    "Potential harms:\n",
    "\n",
    "(1) If this kMeans clustering algorithm or other more advanced methods are applied to identify the grapes that make wines. And this clustering algorithm is known to merchants. Hypothetically, merchants can change the attributes of their wines to trick the algorithm to make them 'closer' to fine wines for more profit, by adjusting the alcohol level, malic acid level, etc.\n",
    "\n",
    "(2) Potential harm caused by hate speech detector algorithms. Many of the hate speech detecting systems are built based on explicit discriminative words. People who want to spread hate speech can simply bypass the detecting systems by using more implicit expressions, such as 'xxx people cannot do xxx', or using jargons and encoded expressions only they know. The potential harm of this is that these detection algorithms may make hate speech even harder to detect using expressions of micro-discrimination, or drive these people to more extreme attitudes.\n",
    "\n",
    "***Prompt: Name one research question you might ask next for future work. Why is it important?***\n",
    "\n",
    "\n",
    "What are the accuracies of all combinations of features? How to find the balance of accuracy and number of features?\n",
    "\n",
    "Why important? \\ Since I only experimented with 4 models and run into the model of 3 features with 80% accuracy, it makes me think if there are other models that have high accuracies with only 3 ~ 4 features. If so, instead of using the full model of 14 features, it is more effecient to use other models to get good accuracies from limited information.\n"
   ]
  },
  {
   "cell_type": "code",
   "execution_count": null,
   "id": "58361e40",
   "metadata": {},
   "outputs": [],
   "source": []
  }
 ],
 "metadata": {
  "kernelspec": {
   "display_name": "Python 3 (ipykernel)",
   "language": "python",
   "name": "python3"
  },
  "language_info": {
   "codemirror_mode": {
    "name": "ipython",
    "version": 3
   },
   "file_extension": ".py",
   "mimetype": "text/x-python",
   "name": "python",
   "nbconvert_exporter": "python",
   "pygments_lexer": "ipython3",
   "version": "3.10.2"
  },
  "varInspector": {
   "cols": {
    "lenName": 16,
    "lenType": 16,
    "lenVar": 40
   },
   "kernels_config": {
    "python": {
     "delete_cmd_postfix": "",
     "delete_cmd_prefix": "del ",
     "library": "var_list.py",
     "varRefreshCmd": "print(var_dic_list())"
    },
    "r": {
     "delete_cmd_postfix": ") ",
     "delete_cmd_prefix": "rm(",
     "library": "var_list.r",
     "varRefreshCmd": "cat(var_dic_list()) "
    }
   },
   "types_to_exclude": [
    "module",
    "function",
    "builtin_function_or_method",
    "instance",
    "_Feature"
   ],
   "window_display": false
  }
 },
 "nbformat": 4,
 "nbformat_minor": 5
}
