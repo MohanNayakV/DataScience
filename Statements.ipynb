{
  "nbformat": 4,
  "nbformat_minor": 0,
  "metadata": {
    "colab": {
      "name": "Statements.ipynb",
      "provenance": [],
      "collapsed_sections": [],
      "authorship_tag": "ABX9TyNlHPP71v6OnlTFrfdl2Wuq",
      "include_colab_link": true
    },
    "kernelspec": {
      "name": "python3",
      "display_name": "Python 3"
    },
    "language_info": {
      "name": "python"
    }
  },
  "cells": [
    {
      "cell_type": "markdown",
      "metadata": {
        "id": "view-in-github",
        "colab_type": "text"
      },
      "source": [
        "<a href=\"https://colab.research.google.com/github/MohanNayakV/DataScience/blob/main/Statements.ipynb\" target=\"_parent\"><img src=\"https://colab.research.google.com/assets/colab-badge.svg\" alt=\"Open In Colab\"/></a>"
      ]
    },
    {
      "cell_type": "code",
      "execution_count": null,
      "metadata": {
        "colab": {
          "base_uri": "https://localhost:8080/"
        },
        "id": "GxKTc0rBdyZb",
        "outputId": "48c87cf3-df8a-48ec-b49a-be573126d18d"
      },
      "outputs": [
        {
          "name": "stdout",
          "output_type": "stream",
          "text": [
            "Please Enter an integer: 42\n"
          ]
        }
      ],
      "source": [
        "x = int(input(\"Please Enter an integer: \")) "
      ]
    },
    {
      "cell_type": "code",
      "source": [
        "if x < 0:\n",
        "  x = 0\n",
        "  print('Negative changed to zero')\n",
        "elif x== 0:\n",
        "  print('Zero')\n",
        "elif x == 1:\n",
        "  print('Single')\n",
        "else:\n",
        "  print('More')"
      ],
      "metadata": {
        "colab": {
          "base_uri": "https://localhost:8080/"
        },
        "id": "1er17AqxeF0-",
        "outputId": "b52db901-67b6-48ac-9f41-021b9b11f6e5"
      },
      "execution_count": null,
      "outputs": [
        {
          "output_type": "stream",
          "name": "stdout",
          "text": [
            "More\n"
          ]
        }
      ]
    },
    {
      "cell_type": "code",
      "source": [
        "# Measure some strings:\n",
        "\n",
        "words = ['cat', 'window', 'defenstrate']\n",
        "for w in words:\n",
        "  print(w, len(w))"
      ],
      "metadata": {
        "colab": {
          "base_uri": "https://localhost:8080/"
        },
        "id": "7sGI9jB_eSM8",
        "outputId": "e900c0bb-d0dc-40aa-cdb8-fba7f6ef3fe6"
      },
      "execution_count": null,
      "outputs": [
        {
          "output_type": "stream",
          "name": "stdout",
          "text": [
            "cat 3\n",
            "window 6\n",
            "defenstrate 11\n"
          ]
        }
      ]
    },
    {
      "cell_type": "code",
      "source": [
        "# Create a sample collection\n",
        "users = {'Hans': 'active', 'Éléonore': 'inactive', '景太郎': 'active'}\n",
        "\n",
        "# Strategy:  Iterate over a copy\n",
        "for user, status in users.copy().items():\n",
        "    if status == 'inactive':\n",
        "        del users[user]\n",
        "\n",
        "# Strategy:  Create a new collection\n",
        "active_users = {}\n",
        "for user, status in users.items():\n",
        "    if status == 'active':\n",
        "        active_users[user] = status\n"
      ],
      "metadata": {
        "id": "wr6s1LfVfiql"
      },
      "execution_count": null,
      "outputs": []
    },
    {
      "cell_type": "code",
      "source": [
        "for i in range(5):\n",
        "    print(i)"
      ],
      "metadata": {
        "colab": {
          "base_uri": "https://localhost:8080/"
        },
        "id": "FGaE6kNsgAbd",
        "outputId": "bdcf0248-4c1a-46a4-e7fc-73507aa2ec9f"
      },
      "execution_count": null,
      "outputs": [
        {
          "output_type": "stream",
          "name": "stdout",
          "text": [
            "0\n",
            "1\n",
            "2\n",
            "3\n",
            "4\n"
          ]
        }
      ]
    },
    {
      "cell_type": "code",
      "source": [
        "list(range(5,10))\n"
      ],
      "metadata": {
        "colab": {
          "base_uri": "https://localhost:8080/"
        },
        "id": "_b1yteaZgDfV",
        "outputId": "85e3cf8e-9a82-4fae-9b89-71ac344dd255"
      },
      "execution_count": null,
      "outputs": [
        {
          "output_type": "execute_result",
          "data": {
            "text/plain": [
              "[5, 6, 7, 8, 9]"
            ]
          },
          "metadata": {},
          "execution_count": 8
        }
      ]
    },
    {
      "cell_type": "code",
      "source": [
        "list(range(0,10,3))"
      ],
      "metadata": {
        "colab": {
          "base_uri": "https://localhost:8080/"
        },
        "id": "r5Jr1MhPgMbt",
        "outputId": "0d5e80e0-0da6-4e0d-8c0d-18cd53ce6835"
      },
      "execution_count": null,
      "outputs": [
        {
          "output_type": "execute_result",
          "data": {
            "text/plain": [
              "[0, 3, 6, 9]"
            ]
          },
          "metadata": {},
          "execution_count": 11
        }
      ]
    },
    {
      "cell_type": "code",
      "source": [
        "a = ['Mary', 'Had', 'a', 'little','lamb']\n",
        "for i in range (len(a)):\n",
        "  print(i, a[i])"
      ],
      "metadata": {
        "colab": {
          "base_uri": "https://localhost:8080/"
        },
        "id": "iWP5XP5ugTUN",
        "outputId": "26902dce-ec6e-45b6-e9db-ffb9fe5fe5b0"
      },
      "execution_count": null,
      "outputs": [
        {
          "output_type": "stream",
          "name": "stdout",
          "text": [
            "0 Mary\n",
            "1 Had\n",
            "2 a\n",
            "3 little\n",
            "4 lamb\n"
          ]
        }
      ]
    },
    {
      "cell_type": "code",
      "source": [
        "range(10)"
      ],
      "metadata": {
        "colab": {
          "base_uri": "https://localhost:8080/"
        },
        "id": "nrHazizoipzv",
        "outputId": "d99781ec-1799-4481-95c1-8acb68cb1491"
      },
      "execution_count": null,
      "outputs": [
        {
          "output_type": "execute_result",
          "data": {
            "text/plain": [
              "range(0, 10)"
            ]
          },
          "metadata": {},
          "execution_count": 13
        }
      ]
    },
    {
      "cell_type": "code",
      "source": [
        "sum(range(4))   # 0 + 1 + 2 + 3"
      ],
      "metadata": {
        "colab": {
          "base_uri": "https://localhost:8080/"
        },
        "id": "7468RNo2itv9",
        "outputId": "960ed081-d32f-40cf-86bc-992f79707f73"
      },
      "execution_count": null,
      "outputs": [
        {
          "output_type": "execute_result",
          "data": {
            "text/plain": [
              "6"
            ]
          },
          "metadata": {},
          "execution_count": 15
        }
      ]
    },
    {
      "cell_type": "markdown",
      "source": [
        "**break and continue Statements, and else Clauses on Loops**"
      ],
      "metadata": {
        "id": "FB3dYwx0i-0o"
      }
    },
    {
      "cell_type": "code",
      "source": [
        ""
      ],
      "metadata": {
        "id": "CtB5NlqWjBZd"
      },
      "execution_count": null,
      "outputs": []
    },
    {
      "cell_type": "markdown",
      "source": [
        "The break statement, like in C, breaks out of the innermost enclosing for or while loop.\n",
        "\n",
        "Loop statements may have an else clause; it is executed when the loop terminates through exhaustion of the iterable (with for) or when the condition becomes false (with while), but not when the loop is terminated by a break statement. This is exemplified by the following loop, which searches for prime numbers:"
      ],
      "metadata": {
        "id": "dYE6a6b9jHA-"
      }
    },
    {
      "cell_type": "code",
      "source": [
        "for n in range (2, 10):\n",
        "  for x in range (2, n):\n",
        "    if n % x == 0:\n",
        "      print(n, 'equals', x, '*', n//x)\n",
        "      break\n",
        "else:\n",
        "     # loop fell through without finding a factor\n",
        "     print(n, 'is a prime number') \n",
        "\n"
      ],
      "metadata": {
        "colab": {
          "base_uri": "https://localhost:8080/"
        },
        "id": "eKB8qyP8jIT9",
        "outputId": "ae0b5b3f-dbf2-4e96-f541-297f039c0d05"
      },
      "execution_count": null,
      "outputs": [
        {
          "output_type": "stream",
          "name": "stdout",
          "text": [
            "4 equals 2 * 2\n",
            "6 equals 2 * 3\n",
            "8 equals 2 * 4\n",
            "9 equals 3 * 3\n",
            "9 is a prime number\n"
          ]
        }
      ]
    },
    {
      "cell_type": "code",
      "source": [
        "for n in range(2, 10):\n",
        "    for x in range(2, n):\n",
        "        if n % x == 0:\n",
        "            print(n, 'equals', x, '*', n//x)\n",
        "            break\n",
        "    else:\n",
        "        # loop fell through without finding a factor\n",
        "        print(n, 'is a prime number')"
      ],
      "metadata": {
        "colab": {
          "base_uri": "https://localhost:8080/"
        },
        "id": "Oin4fkxUkiqI",
        "outputId": "db9057ae-d32c-45f6-fcba-698115bc85fc"
      },
      "execution_count": null,
      "outputs": [
        {
          "output_type": "stream",
          "name": "stdout",
          "text": [
            "2 is a prime number\n",
            "3 is a prime number\n",
            "4 equals 2 * 2\n",
            "5 is a prime number\n",
            "6 equals 2 * 3\n",
            "7 is a prime number\n",
            "8 equals 2 * 4\n",
            "9 equals 3 * 3\n"
          ]
        }
      ]
    },
    {
      "cell_type": "markdown",
      "source": [
        "(Yes, this is the correct code. Look closely: the else clause belongs to the for loop, not the if statement.)\n",
        "\n",
        "When used with a loop, the else clause has more in common with the else clause of a try statement than it does with that of if statements: a try statement’s else clause runs when no exception occurs, and a loop’s else clause runs when no break occurs. For more on the try statement and exceptions, see Handling Exceptions.\n",
        "\n",
        "The continue statement, also borrowed from C, continues with the next iteration of the loop:"
      ],
      "metadata": {
        "id": "7H6K2JmDk_ko"
      }
    },
    {
      "cell_type": "markdown",
      "source": [
        ""
      ],
      "metadata": {
        "id": "i_6IHoVpk8iI"
      }
    },
    {
      "cell_type": "code",
      "source": [
        "for num in range(2, 10):\n",
        "    if num % 2 == 0:\n",
        "        print(\"Found an even number\", num)\n",
        "        continue\n",
        "    print(\"Found an odd number\", num)"
      ],
      "metadata": {
        "colab": {
          "base_uri": "https://localhost:8080/"
        },
        "id": "rjR85abqlHed",
        "outputId": "d45f69b1-2b95-4a80-eed0-eb1e7daabb20"
      },
      "execution_count": null,
      "outputs": [
        {
          "output_type": "stream",
          "name": "stdout",
          "text": [
            "Found an even number 2\n",
            "Found an odd number 3\n",
            "Found an even number 4\n",
            "Found an odd number 5\n",
            "Found an even number 6\n",
            "Found an odd number 7\n",
            "Found an even number 8\n",
            "Found an odd number 9\n"
          ]
        }
      ]
    },
    {
      "cell_type": "code",
      "source": [
        ""
      ],
      "metadata": {
        "id": "0pnxAulylKOG"
      },
      "execution_count": null,
      "outputs": []
    },
    {
      "cell_type": "markdown",
      "source": [
        "**4.5. pass Statements¶**\n",
        "\n",
        "The pass statement does nothing. It can be used when a statement is required syntactically but the program requires no action. For example:"
      ],
      "metadata": {
        "id": "z-515RIAllin"
      }
    },
    {
      "cell_type": "code",
      "source": [
        "while True:\n",
        "    pass  # Busy-wait for keyboard interrupt (Ctrl+C)"
      ],
      "metadata": {
        "id": "v5HrwYsrltfl"
      },
      "execution_count": null,
      "outputs": []
    },
    {
      "cell_type": "code",
      "source": [
        "class MyEmptyClass:\n",
        "    pass"
      ],
      "metadata": {
        "id": "z2Dz_xMzmTCm"
      },
      "execution_count": null,
      "outputs": []
    },
    {
      "cell_type": "code",
      "source": [
        "def initlog(*args):\n",
        "    pass   # Remember to implement this!"
      ],
      "metadata": {
        "id": "DypCZoT6oUzm"
      },
      "execution_count": null,
      "outputs": []
    },
    {
      "cell_type": "code",
      "source": [
        ""
      ],
      "metadata": {
        "id": "ZeBLOP3godVW"
      },
      "execution_count": null,
      "outputs": []
    },
    {
      "cell_type": "markdown",
      "source": [
        "**4.6. match Statements**\n",
        "\n",
        "A match statement takes an expression and compares its value to successive patterns given as one or more case blocks. This is superficially similar to a switch statement in C, Java or JavaScript (and many other languages), but it can also extract components (sequence elements or object attributes) from the value into variables.\n",
        "\n",
        "The simplest form compares a subject value against one or more literals:"
      ],
      "metadata": {
        "id": "HK65uq7BoeiH"
      }
    },
    {
      "cell_type": "code",
      "source": [
        "def http_error(status):\n",
        "    match status:\n",
        "        case 400:\n",
        "            return \"Bad request\"\n",
        "        case 404:\n",
        "            return \"Not found\"\n",
        "        case 418:\n",
        "            return \"I'm a teapot\"\n",
        "        case _:\n",
        "            return \"Something's wrong with the internet\""
      ],
      "metadata": {
        "id": "AOqJ3dGdoha-"
      },
      "execution_count": null,
      "outputs": []
    },
    {
      "cell_type": "code",
      "source": [
        "case 401 | 403 | 404:\n",
        "    return \"Not allowed\"\n"
      ],
      "metadata": {
        "id": "2J3cO4UVopyO"
      },
      "execution_count": null,
      "outputs": []
    },
    {
      "cell_type": "code",
      "source": [
        ""
      ],
      "metadata": {
        "id": "z8-GFGnwQ0IP"
      },
      "execution_count": null,
      "outputs": []
    },
    {
      "cell_type": "markdown",
      "source": [
        "**Patterns can look like unpacking assignments, and can be used to bind variables:**\n"
      ],
      "metadata": {
        "id": "IhLL9E7FQ9Gz"
      }
    },
    {
      "cell_type": "code",
      "source": [
        "# point is an (x, y) tuple\n",
        "match point:\n",
        "    case (0, 0):\n",
        "        print(\"Origin\")\n",
        "    case (0, y):\n",
        "        print(f\"Y={y}\")\n",
        "    case (x, 0):\n",
        "        print(f\"X={x}\")\n",
        "    case (x, y):\n",
        "        print(f\"X={x}, Y={y}\")\n",
        "    case _:\n",
        "        raise ValueError(\"Not a point\")"
      ],
      "metadata": {
        "id": "8HXl0FHZQ-vm"
      },
      "execution_count": null,
      "outputs": []
    },
    {
      "cell_type": "code",
      "source": [
        ""
      ],
      "metadata": {
        "id": "PKtrniejRBg3"
      },
      "execution_count": null,
      "outputs": []
    },
    {
      "cell_type": "markdown",
      "source": [
        "Study that one carefully! The first pattern has two literals, and can be thought of as an extension of the literal pattern shown above. But the next two patterns combine a literal and a variable, and the variable binds a value from the subject (point). The fourth pattern captures two values, which makes it conceptually similar to the unpacking assignment (x, y) = point.\n",
        "\n",
        "If you are using classes to structure your data you can use the class name followed by an argument list resembling a constructor, but with the ability to capture attributes into variables:"
      ],
      "metadata": {
        "id": "7mWssLXeRF24"
      }
    },
    {
      "cell_type": "code",
      "source": [
        "class Point:\n",
        "    x: int\n",
        "    y: int\n",
        "\n",
        "def where_is(point):\n",
        "    match point:\n",
        "        case Point(x=0, y=0):\n",
        "            print(\"Origin\")\n",
        "        case Point(x=0, y=y):\n",
        "            print(f\"Y={y}\")\n",
        "        case Point(x=x, y=0):\n",
        "            print(f\"X={x}\")\n",
        "        case Point():\n",
        "            print(\"Somewhere else\")\n",
        "        case _:\n",
        "            print(\"Not a point\")"
      ],
      "metadata": {
        "id": "KWg0wraiRGcO"
      },
      "execution_count": null,
      "outputs": []
    },
    {
      "cell_type": "code",
      "source": [
        ""
      ],
      "metadata": {
        "id": "h243AVQnRIxX"
      },
      "execution_count": null,
      "outputs": []
    },
    {
      "cell_type": "markdown",
      "source": [
        "You can use positional parameters with some builtin classes that provide an ordering for their attributes (e.g. dataclasses). You can also define a specific position for attributes in patterns by setting the __match_args__ special attribute in your classes. If it’s set to (“x”, “y”), the following patterns are all equivalent (and all bind the y attribute to the var variable):"
      ],
      "metadata": {
        "id": "HmqfLaszROfi"
      }
    },
    {
      "cell_type": "code",
      "source": [
        "Point(1, var)\n",
        "Point(1, y=var)\n",
        "Point(x=1, y=var)\n",
        "Point(y=var, x=1)"
      ],
      "metadata": {
        "id": "vU5_EIBRRPPn"
      },
      "execution_count": null,
      "outputs": []
    },
    {
      "cell_type": "code",
      "source": [
        ""
      ],
      "metadata": {
        "id": "_tVK4ZW6RRQ4"
      },
      "execution_count": null,
      "outputs": []
    },
    {
      "cell_type": "markdown",
      "source": [
        "A recommended way to read patterns is to look at them as an extended form of what you would put on the left of an assignment, to understand which variables would be set to what. Only the standalone names (like var above) are assigned to by a match statement. Dotted names (like foo.bar), attribute names (the x= and y= above) or class names (recognized by the “(…)” next to them like Point above) are never assigned to.\n",
        "\n",
        "Patterns can be arbitrarily nested. For example, if we have a short list of points, we could match it like this:"
      ],
      "metadata": {
        "id": "UVyjCguZRUOB"
      }
    },
    {
      "cell_type": "code",
      "source": [
        "match points:\n",
        "    case []:\n",
        "        print(\"No points\")\n",
        "    case [Point(0, 0)]:\n",
        "        print(\"The origin\")\n",
        "    case [Point(x, y)]:\n",
        "        print(f\"Single point {x}, {y}\")\n",
        "    case [Point(0, y1), Point(0, y2)]:\n",
        "        print(f\"Two on the Y axis at {y1}, {y2}\")\n",
        "    case _:\n",
        "        print(\"Something else\")"
      ],
      "metadata": {
        "id": "AghB2HDyRUyv"
      },
      "execution_count": null,
      "outputs": []
    },
    {
      "cell_type": "code",
      "source": [
        ""
      ],
      "metadata": {
        "id": "Xqy4LHpWRW7_"
      },
      "execution_count": null,
      "outputs": []
    },
    {
      "cell_type": "markdown",
      "source": [
        "We can add an if clause to a pattern, known as a “guard”. If the guard is false, match goes on to try the next case block. Note that value capture happens before the guard is evaluated:"
      ],
      "metadata": {
        "id": "m-17__wFRami"
      }
    },
    {
      "cell_type": "code",
      "source": [
        "match point:\n",
        "    case Point(x, y) if x == y:\n",
        "        print(f\"Y=X at {x}\")\n",
        "    case Point(x, y):\n",
        "        print(f\"Not on the diagonal\")"
      ],
      "metadata": {
        "id": "xTpQZt08RbPP"
      },
      "execution_count": null,
      "outputs": []
    },
    {
      "cell_type": "code",
      "source": [
        ""
      ],
      "metadata": {
        "id": "dHQPXtYTRdMP"
      },
      "execution_count": null,
      "outputs": []
    },
    {
      "cell_type": "markdown",
      "source": [
        "Several other key features of this statement:\n",
        "\n",
        "Like unpacking assignments, tuple and list patterns have exactly the same meaning and actually match arbitrary sequences. An important exception is that they don’t match iterators or strings.\n",
        "\n",
        "Sequence patterns support extended unpacking: [x, y, *rest] and (x, y, *rest) work similar to unpacking assignments. The name after * may also be _, so (x, y, *_) matches a sequence of at least two items without binding the remaining items.\n",
        "\n",
        "Mapping patterns: {\"bandwidth\": b, \"latency\": l} captures the \"bandwidth\" and \"latency\" values from a dictionary. Unlike sequence patterns, extra keys are ignored. An unpacking like **rest is also supported. (But **_ would be redundant, so it is not allowed.)\n",
        "\n",
        "Subpatterns may be captured using the as keyword:"
      ],
      "metadata": {
        "id": "aywYBjC8Rf7h"
      }
    },
    {
      "cell_type": "code",
      "source": [
        "case (Point(x1, y1), Point(x2, y2) as p2): ..."
      ],
      "metadata": {
        "id": "1BT_KUY2RgXv"
      },
      "execution_count": null,
      "outputs": []
    },
    {
      "cell_type": "code",
      "source": [
        ""
      ],
      "metadata": {
        "id": "ttO0wJzyRlEn"
      },
      "execution_count": null,
      "outputs": []
    },
    {
      "cell_type": "markdown",
      "source": [
        "will capture the second element of the input as p2 (as long as the input is a sequence of two points)\n",
        "\n",
        "Most literals are compared by equality, however the singletons True, False and None are compared by identity.\n",
        "\n",
        "Patterns may use named constants. These must be dotted names to prevent them from being interpreted as capture variable:"
      ],
      "metadata": {
        "id": "ggDEnhDXRnYJ"
      }
    },
    {
      "cell_type": "code",
      "source": [
        "from enum import Enum\n",
        "class Color(Enum):\n",
        "    RED = 'red'\n",
        "    GREEN = 'green'\n",
        "    BLUE = 'blue'\n",
        "\n",
        "color = Color(input(\"Enter your choice of 'red', 'blue' or 'green': \"))\n",
        "\n",
        "match color:\n",
        "    case Color.RED:\n",
        "        print(\"I see red!\")\n",
        "    case Color.GREEN:\n",
        "        print(\"Grass is green\")\n",
        "    case Color.BLUE:\n",
        "        print(\"I'm feeling the blues :(\")"
      ],
      "metadata": {
        "id": "a0PjwC9jRn2P"
      },
      "execution_count": null,
      "outputs": []
    },
    {
      "cell_type": "markdown",
      "source": [
        "For a more detailed explanation and additional examples, you can look into PEP 636 which is written in a tutorial format."
      ],
      "metadata": {
        "id": "skruVYX1Ryjq"
      }
    },
    {
      "cell_type": "markdown",
      "source": [
        "***4.7. Defining Functions***\n",
        "\n",
        "We can create a function that writes the Fibonacci series to an arbitrary boundary:"
      ],
      "metadata": {
        "id": "Bd3QibICR5Up"
      }
    },
    {
      "cell_type": "code",
      "source": [
        "def fib(n):    # write Fibonacci series up to n\n",
        "    \"\"\"Print a Fibonacci series up to n.\"\"\"\n",
        "    a, b = 0, 1\n",
        "    while a < n:\n",
        "        print(a, end=' ')\n",
        "        a, b = b, a+b\n",
        "    print()\n",
        "\n",
        "# Now call the function we just defined:\n",
        "fib(2000)"
      ],
      "metadata": {
        "colab": {
          "base_uri": "https://localhost:8080/"
        },
        "id": "r9VQXu58R_FW",
        "outputId": "e2ebe9b7-8544-47e2-c178-5f1c58457fbf"
      },
      "execution_count": null,
      "outputs": [
        {
          "output_type": "stream",
          "name": "stdout",
          "text": [
            "0 1 1 2 3 5 8 13 21 34 55 89 144 233 377 610 987 1597 \n"
          ]
        }
      ]
    },
    {
      "cell_type": "code",
      "source": [
        ""
      ],
      "metadata": {
        "id": "f6r5rORLSF3n"
      },
      "execution_count": null,
      "outputs": []
    },
    {
      "cell_type": "markdown",
      "source": [
        "The keyword def introduces a function definition. It must be followed by the function name and the parenthesized list of formal parameters. The statements that form the body of the function start at the next line, and must be indented.\n",
        "\n",
        "The first statement of the function body can optionally be a string literal; this string literal is the function’s documentation string, or docstring. (More about docstrings can be found in the section Documentation Strings.) There are tools which use docstrings to automatically produce online or printed documentation, or to let the user interactively browse through code; it’s good practice to include docstrings in code that you write, so make a habit of it.\n",
        "\n",
        "The execution of a function introduces a new symbol table used for the local variables of the function. More precisely, all variable assignments in a function store the value in the local symbol table; whereas variable references first look in the local symbol table, then in the local symbol tables of enclosing functions, then in the global symbol table, and finally in the table of built-in names. Thus, global variables and variables of enclosing functions cannot be directly assigned a value within a function (unless, for global variables, named in a global statement, or, for variables of enclosing functions, named in a nonlocal statement), although they may be referenced.\n",
        "\n",
        "The actual parameters (arguments) to a function call are introduced in the local symbol table of the called function when it is called; thus, arguments are passed using call by value (where the value is always an object reference, not the value of the object). 1 When a function calls another function, or calls itself recursively, a new local symbol table is created for that call.\n",
        "\n",
        "A function definition associates the function name with the function object in the current symbol table. The interpreter recognizes the object pointed to by that name as a user-defined function. Other names can also point to that same function object and can also be used to access the function:"
      ],
      "metadata": {
        "id": "A-YQilH0SRuz"
      }
    },
    {
      "cell_type": "code",
      "source": [
        "fib"
      ],
      "metadata": {
        "colab": {
          "base_uri": "https://localhost:8080/"
        },
        "id": "yqVIo-SMSVMi",
        "outputId": "ab08e2f8-5356-4a74-9751-1977a13dd601"
      },
      "execution_count": null,
      "outputs": [
        {
          "output_type": "execute_result",
          "data": {
            "text/plain": [
              "<function __main__.fib>"
            ]
          },
          "metadata": {},
          "execution_count": 37
        }
      ]
    },
    {
      "cell_type": "code",
      "source": [
        "f = fib"
      ],
      "metadata": {
        "id": "Sgu4uxIuSZzf"
      },
      "execution_count": null,
      "outputs": []
    },
    {
      "cell_type": "code",
      "source": [
        "f(100)"
      ],
      "metadata": {
        "colab": {
          "base_uri": "https://localhost:8080/"
        },
        "id": "5m_adliwSdcI",
        "outputId": "86f5f67d-abc8-4bd8-89c4-9e8b4226092c"
      },
      "execution_count": null,
      "outputs": [
        {
          "output_type": "stream",
          "name": "stdout",
          "text": [
            "0 1 1 2 3 5 8 13 21 34 55 89 \n"
          ]
        }
      ]
    },
    {
      "cell_type": "markdown",
      "source": [
        "**Coming from other languages, you might object that fib is not a function but a procedure since it doesn’t return a value. In fact, even functions without a return statement do return a value, albeit a rather boring one. This value is called None (it’s a built-in name). Writing the value None is normally suppressed by the interpreter if it would be the only value written. You can see it if you really want to using print():**\n",
        "\n",
        "\n"
      ],
      "metadata": {
        "id": "fGZLvFpzSlK0"
      }
    },
    {
      "cell_type": "code",
      "source": [
        "fib(0)\n",
        "print(fib(0))"
      ],
      "metadata": {
        "id": "17R2e0K1SrU3",
        "colab": {
          "base_uri": "https://localhost:8080/"
        },
        "outputId": "aed0af64-29dd-4e36-bb8f-94b4a101bba0"
      },
      "execution_count": 40,
      "outputs": [
        {
          "output_type": "stream",
          "name": "stdout",
          "text": [
            "\n",
            "\n",
            "None\n"
          ]
        }
      ]
    },
    {
      "cell_type": "markdown",
      "source": [
        "It is simple to write a function that returns a list of the numbers of the Fibonacci series, instead of printing it:"
      ],
      "metadata": {
        "id": "5f52BQ37ThZN"
      }
    },
    {
      "cell_type": "code",
      "source": [
        "def fib2(n):  # return Fibonacci series up to n\n",
        "    \"\"\"Return a list containing the Fibonacci series up to n.\"\"\"\n",
        "    result = []\n",
        "    a, b = 0, 1\n",
        "    while a < n:\n",
        "        result.append(a)    # see below\n",
        "        a, b = b, a+b\n",
        "    return result\n",
        "\n",
        "f100 = fib2(100)    # call it\n",
        "f100                # write the result"
      ],
      "metadata": {
        "colab": {
          "base_uri": "https://localhost:8080/"
        },
        "id": "iFk2zqMLTh8H",
        "outputId": "2aa50d5e-29ea-4119-bf46-523df4d40848"
      },
      "execution_count": 41,
      "outputs": [
        {
          "output_type": "execute_result",
          "data": {
            "text/plain": [
              "[0, 1, 1, 2, 3, 5, 8, 13, 21, 34, 55, 89]"
            ]
          },
          "metadata": {},
          "execution_count": 41
        }
      ]
    },
    {
      "cell_type": "code",
      "source": [
        ""
      ],
      "metadata": {
        "id": "5akOkk5JTnWw"
      },
      "execution_count": null,
      "outputs": []
    },
    {
      "cell_type": "markdown",
      "source": [
        "This example, as usual, demonstrates some new Python features:\n",
        "\n",
        "The return statement returns with a value from a function. return without an expression argument returns None. Falling off the end of a function also returns None.\n",
        "\n",
        "The statement result.append(a) calls a method of the list object result. A method is a function that ‘belongs’ to an object and is named obj.methodname, where obj is some object (this may be an expression), and methodname is the name of a method that is defined by the object’s type. Different types define different methods. Methods of different types may have the same name without causing ambiguity. (It is possible to define your own object types and methods, using classes, see Classes) The method append() shown in the example is defined for list objects; it adds a new element at the end of the list. In this example it is equivalent to result = result + [a], but more efficient.\n",
        "\n",
        "# 4.8. More on Defining Functions\n",
        "It is also possible to define functions with a variable number of arguments. There are three forms, which can be combined.\n",
        "\n",
        "# 4.8.1. Default Argument Values\n",
        "The most useful form is to specify a default value for one or more arguments. This creates a function that can be called with fewer arguments than it is defined to allow. For example:"
      ],
      "metadata": {
        "id": "rrGWLZvgTzYB"
      }
    },
    {
      "cell_type": "code",
      "source": [
        "def ask_ok(prompt, retries=4, reminder='Please try again!'):\n",
        "    while True:\n",
        "        ok = input(prompt)\n",
        "        if ok in ('y', 'ye', 'yes'):\n",
        "            return True\n",
        "        if ok in ('n', 'no', 'nop', 'nope'):\n",
        "            return False\n",
        "        retries = retries - 1\n",
        "        if retries < 0:\n",
        "            raise ValueError('invalid user response')\n",
        "        print(reminder)"
      ],
      "metadata": {
        "id": "_Ob94lYuT4KP"
      },
      "execution_count": 42,
      "outputs": []
    },
    {
      "cell_type": "code",
      "source": [
        ""
      ],
      "metadata": {
        "id": "LIfxOsIiT7_4"
      },
      "execution_count": null,
      "outputs": []
    },
    {
      "cell_type": "markdown",
      "source": [
        "This function can be called in several ways:\n",
        "\n",
        "giving only the mandatory argument: ask_ok('Do you really want to quit?')\n",
        "\n",
        "giving one of the optional arguments: ask_ok('OK to overwrite the file?', 2)\n",
        "\n",
        "or even giving all arguments: ask_ok('OK to overwrite the file?', 2, 'Come on, only yes or no!')\n",
        "\n",
        "This example also introduces the in keyword. This tests whether or not a sequence contains a certain value.\n",
        "\n",
        "The default values are evaluated at the point of function definition in the defining scope, so that"
      ],
      "metadata": {
        "id": "55ma2x68T-lx"
      }
    },
    {
      "cell_type": "code",
      "source": [
        "i = 5\n",
        "\n",
        "def f(arg=i):\n",
        "    print(arg)\n",
        "\n",
        "i = 6\n",
        "f()"
      ],
      "metadata": {
        "colab": {
          "base_uri": "https://localhost:8080/"
        },
        "id": "pZLxOTthT_Gf",
        "outputId": "6fb1a8c8-717c-43f6-ab42-3a4ebc45ffa6"
      },
      "execution_count": 43,
      "outputs": [
        {
          "output_type": "stream",
          "name": "stdout",
          "text": [
            "5\n"
          ]
        }
      ]
    },
    {
      "cell_type": "code",
      "source": [
        ""
      ],
      "metadata": {
        "id": "I3n-1NGZUDpQ"
      },
      "execution_count": null,
      "outputs": []
    },
    {
      "cell_type": "markdown",
      "source": [
        "will print 5.\n",
        "\n",
        "Important warning: The default value is evaluated only once. This makes a difference when the default is a mutable object such as a list, dictionary, or instances of most classes. For example, the following function accumulates the arguments passed to it on subsequent calls:"
      ],
      "metadata": {
        "id": "El2tpDEEUIHL"
      }
    },
    {
      "cell_type": "code",
      "source": [
        "def f(a, L=[]):\n",
        "    L.append(a)\n",
        "    return L\n",
        "\n",
        "print(f(1))\n",
        "print(f(2))\n",
        "print(f(3))\n",
        "print(f(4))\n",
        "print(f(5))"
      ],
      "metadata": {
        "colab": {
          "base_uri": "https://localhost:8080/"
        },
        "id": "niKPgxMwUIqG",
        "outputId": "60e0b83f-44dc-41b3-8fa3-3afb768df6f8"
      },
      "execution_count": 45,
      "outputs": [
        {
          "output_type": "stream",
          "name": "stdout",
          "text": [
            "[1]\n",
            "[1, 2]\n",
            "[1, 2, 3]\n",
            "[1, 2, 3, 4]\n",
            "[1, 2, 3, 4, 5]\n"
          ]
        }
      ]
    },
    {
      "cell_type": "code",
      "source": [
        ""
      ],
      "metadata": {
        "id": "5ZmtPTOzUNLI"
      },
      "execution_count": null,
      "outputs": []
    },
    {
      "cell_type": "markdown",
      "source": [
        "If you don’t want the default to be shared between subsequent calls, you can write the function like this instead:"
      ],
      "metadata": {
        "id": "nZjI0UcuUajS"
      }
    },
    {
      "cell_type": "code",
      "source": [
        "def f(a, L=None):\n",
        "    if L is None:\n",
        "        L = []\n",
        "    L.append(a)\n",
        "    return L"
      ],
      "metadata": {
        "id": "APgqVmjcUbMI"
      },
      "execution_count": 46,
      "outputs": []
    },
    {
      "cell_type": "code",
      "source": [
        "print(f(1))\n",
        "print(f(2))\n",
        "print(f(3))\n",
        "print(f(4))\n",
        "print(f(5))"
      ],
      "metadata": {
        "colab": {
          "base_uri": "https://localhost:8080/"
        },
        "id": "thNB59mmUcvQ",
        "outputId": "73cba0ea-84e0-485f-9ded-f67a537851d5"
      },
      "execution_count": 47,
      "outputs": [
        {
          "output_type": "stream",
          "name": "stdout",
          "text": [
            "[1]\n",
            "[2]\n",
            "[3]\n",
            "[4]\n",
            "[5]\n"
          ]
        }
      ]
    },
    {
      "cell_type": "code",
      "source": [
        ""
      ],
      "metadata": {
        "id": "AeGSlMOEUhnY"
      },
      "execution_count": null,
      "outputs": []
    },
    {
      "cell_type": "markdown",
      "source": [
        "# 4.8.2. Keyword Arguments\n",
        "Functions can also be called using keyword arguments of the form kwarg=value. For instance, the following function:"
      ],
      "metadata": {
        "id": "nn3gNm6lUkkT"
      }
    },
    {
      "cell_type": "code",
      "source": [
        "def parrot(voltage, state='a stiff', action='voom', type='Norwegian Blue'):\n",
        "    print(\"-- This parrot wouldn't\", action, end=' ')\n",
        "    print(\"if you put\", voltage, \"volts through it.\")\n",
        "    print(\"-- Lovely plumage, the\", type)\n",
        "    print(\"-- It's\", state, \"!\")"
      ],
      "metadata": {
        "id": "QP7Kr24KUoZP"
      },
      "execution_count": 48,
      "outputs": []
    },
    {
      "cell_type": "markdown",
      "source": [
        "accepts one required argument (voltage) and three optional arguments (state, action, and type). This function can be called in any of the following ways:"
      ],
      "metadata": {
        "id": "vXuz04OuUwcp"
      }
    },
    {
      "cell_type": "code",
      "source": [
        "parrot(1000)                                          # 1 positional argument\n",
        "parrot(voltage=1000)                                  # 1 keyword argument\n",
        "parrot(voltage=1000000, action='VOOOOOM')             # 2 keyword arguments\n",
        "parrot(action='VOOOOOM', voltage=1000000)             # 2 keyword arguments\n",
        "parrot('a million', 'bereft of life', 'jump')         # 3 positional arguments\n",
        "parrot('a thousand', state='pushing up the daisies')  # 1 positional, 1 keyword"
      ],
      "metadata": {
        "colab": {
          "base_uri": "https://localhost:8080/"
        },
        "id": "9w6IN52aUw7n",
        "outputId": "e4a8cd83-b4a5-45d3-bb87-19523b9e95eb"
      },
      "execution_count": 49,
      "outputs": [
        {
          "output_type": "stream",
          "name": "stdout",
          "text": [
            "-- This parrot wouldn't voom if you put 1000 volts through it.\n",
            "-- Lovely plumage, the Norwegian Blue\n",
            "-- It's a stiff !\n",
            "-- This parrot wouldn't voom if you put 1000 volts through it.\n",
            "-- Lovely plumage, the Norwegian Blue\n",
            "-- It's a stiff !\n",
            "-- This parrot wouldn't VOOOOOM if you put 1000000 volts through it.\n",
            "-- Lovely plumage, the Norwegian Blue\n",
            "-- It's a stiff !\n",
            "-- This parrot wouldn't VOOOOOM if you put 1000000 volts through it.\n",
            "-- Lovely plumage, the Norwegian Blue\n",
            "-- It's a stiff !\n",
            "-- This parrot wouldn't jump if you put a million volts through it.\n",
            "-- Lovely plumage, the Norwegian Blue\n",
            "-- It's bereft of life !\n",
            "-- This parrot wouldn't voom if you put a thousand volts through it.\n",
            "-- Lovely plumage, the Norwegian Blue\n",
            "-- It's pushing up the daisies !\n"
          ]
        }
      ]
    },
    {
      "cell_type": "markdown",
      "source": [
        "but all the following calls would be invalid:"
      ],
      "metadata": {
        "id": "skGpCXjhVCWy"
      }
    },
    {
      "cell_type": "code",
      "source": [
        "parrot()                     # required argument missing\n",
        "parrot(voltage=5.0, 'dead')  # non-keyword argument after a keyword argument\n",
        "parrot(110, voltage=220)     # duplicate value for the same argument\n",
        "parrot(actor='John Cleese')  # unknown keyword argument"
      ],
      "metadata": {
        "id": "Hwx3Du0RVEsi"
      },
      "execution_count": null,
      "outputs": []
    },
    {
      "cell_type": "code",
      "source": [
        "def cheeseshop(kind, *arguments, **keywords):\n",
        "    print(\"-- Do you have any\", kind, \"?\")\n",
        "    print(\"-- I'm sorry, we're all out of\", kind)\n",
        "    for arg in arguments:\n",
        "        print(arg)\n",
        "    print(\"-\" * 40)\n",
        "    for kw in keywords:\n",
        "        print(kw, \":\", keywords[kw])"
      ],
      "metadata": {
        "id": "gwXTty59VGFH"
      },
      "execution_count": 51,
      "outputs": []
    },
    {
      "cell_type": "markdown",
      "source": [
        "It could be called like this:"
      ],
      "metadata": {
        "id": "zEP0jIsCVRSq"
      }
    },
    {
      "cell_type": "code",
      "source": [
        "cheeseshop(\"Limburger\", \"It's very runny, sir.\",\n",
        "           \"It's really very, VERY runny, sir.\",\n",
        "           shopkeeper=\"Michael Palin\",\n",
        "           client=\"John Cleese\",\n",
        "           sketch=\"Cheese Shop Sketch\")"
      ],
      "metadata": {
        "colab": {
          "base_uri": "https://localhost:8080/"
        },
        "id": "EwVIH5PYVSXv",
        "outputId": "c0f19fe6-7e36-4c34-ac2d-67b84a123c60"
      },
      "execution_count": 52,
      "outputs": [
        {
          "output_type": "stream",
          "name": "stdout",
          "text": [
            "-- Do you have any Limburger ?\n",
            "-- I'm sorry, we're all out of Limburger\n",
            "It's very runny, sir.\n",
            "It's really very, VERY runny, sir.\n",
            "----------------------------------------\n",
            "shopkeeper : Michael Palin\n",
            "client : John Cleese\n",
            "sketch : Cheese Shop Sketch\n"
          ]
        }
      ]
    },
    {
      "cell_type": "markdown",
      "source": [
        "Note that the order in which the keyword arguments are printed is guaranteed to match the order in which they were provided in the function call.\n",
        "\n",
        "# 4.8.3. Special parameters\n",
        "By default, arguments may be passed to a Python function either by position or explicitly by keyword. For readability and performance, it makes sense to restrict the way arguments can be passed so that a developer need only look at the function definition to determine if items are passed by position, by position or keyword, or by keyword.\n",
        "\n",
        "A function definition may look like:"
      ],
      "metadata": {
        "id": "OSJKAcQ_Vbmi"
      }
    },
    {
      "cell_type": "code",
      "source": [
        "def f(pos1, pos2, /, pos_or_kwd, *, kwd1, kwd2):\n",
        "      -----------    ----------     ----------\n",
        "        |             |                  |\n",
        "        |        Positional or keyword   |\n",
        "        |                                - Keyword only\n",
        "         -- Positional only"
      ],
      "metadata": {
        "id": "noSHnyOaVgHj"
      },
      "execution_count": null,
      "outputs": []
    },
    {
      "cell_type": "markdown",
      "source": [
        "where / and * are optional. If used, these symbols indicate the kind of parameter by how the arguments may be passed to the function: positional-only, positional-or-keyword, and keyword-only. Keyword parameters are also referred to as named parameters.\n",
        "\n",
        "# 4.8.3.1. Positional-or-Keyword Arguments\n",
        "If / and * are not present in the function definition, arguments may be passed to a function by position or by keyword.\n",
        "\n",
        "# 4.8.3.2. Positional-Only Parameters\n",
        "Looking at this in a bit more detail, it is possible to mark certain parameters as positional-only. If positional-only, the parameters’ order matters, and the parameters cannot be passed by keyword. Positional-only parameters are placed before a / (forward-slash). The / is used to logically separate the positional-only parameters from the rest of the parameters. If there is no / in the function definition, there are no positional-only parameters.\n",
        "\n",
        "Parameters following the / may be positional-or-keyword or keyword-only.\n",
        "\n",
        "# 4.8.3.3. Keyword-Only Arguments\n",
        "To mark parameters as keyword-only, indicating the parameters must be passed by keyword argument, place an * in the arguments list just before the first keyword-only parameter.\n",
        "\n",
        "# 4.8.3.4. Function Examples\n",
        "Consider the following example function definitions paying close attention to the markers / and *:"
      ],
      "metadata": {
        "id": "q-WahHnIVqIj"
      }
    },
    {
      "cell_type": "markdown",
      "source": [
        "# 4.8.4. Arbitrary Argument Lists\n",
        "Finally, the least frequently used option is to specify that a function can be called with an arbitrary number of arguments. These arguments will be wrapped up in a tuple (see Tuples and Sequences). Before the variable number of arguments, zero or more normal arguments may occur."
      ],
      "metadata": {
        "id": "cWBiLx_tV8DK"
      }
    },
    {
      "cell_type": "code",
      "source": [
        "def write_multiple_items(file, separator, *args):\n",
        "    file.write(separator.join(args))"
      ],
      "metadata": {
        "id": "5-dZcduFV9Gp"
      },
      "execution_count": 55,
      "outputs": []
    },
    {
      "cell_type": "markdown",
      "source": [
        "Normally, these variadic arguments will be last in the list of formal parameters, because they scoop up all remaining input arguments that are passed to the function. Any formal parameters which occur after the *args parameter are ‘keyword-only’ arguments, meaning that they can only be used as keywords rather than positional arguments."
      ],
      "metadata": {
        "id": "hbnDtekaWBva"
      }
    },
    {
      "cell_type": "code",
      "source": [
        "def concat(*args, sep=\"/\"):\n",
        "    return sep.join(args)\n",
        "    concat(\"earth\", \"mars\", \"venus\")\n",
        "    concat(\"earth\", \"mars\", \"venus\", sep=\".\")"
      ],
      "metadata": {
        "id": "VggNSrLPWCMY"
      },
      "execution_count": 60,
      "outputs": []
    },
    {
      "cell_type": "code",
      "source": [
        "concat"
      ],
      "metadata": {
        "colab": {
          "base_uri": "https://localhost:8080/"
        },
        "id": "ftOzNXsVWGXI",
        "outputId": "086a3cbb-3a1e-4a30-817c-8de2f9b8e000"
      },
      "execution_count": 61,
      "outputs": [
        {
          "output_type": "execute_result",
          "data": {
            "text/plain": [
              "<function __main__.concat>"
            ]
          },
          "metadata": {},
          "execution_count": 61
        }
      ]
    },
    {
      "cell_type": "markdown",
      "source": [
        "# 4.8.5. Unpacking Argument Lists\n",
        "The reverse situation occurs when the arguments are already in a list or tuple but need to be unpacked for a function call requiring separate positional arguments. For instance, the built-in range() function expects separate start and stop arguments. If they are not available separately, write the function call with the *-operator to unpack the arguments out of a list or tuple:"
      ],
      "metadata": {
        "id": "UrnG7RJkWbR7"
      }
    },
    {
      "cell_type": "code",
      "source": [
        "list (range(3,6)) # normal call with separate arguments"
      ],
      "metadata": {
        "colab": {
          "base_uri": "https://localhost:8080/"
        },
        "id": "HVGc1mNqWcpo",
        "outputId": "7e182e9f-4ce0-4012-8a9a-2501fac6f285"
      },
      "execution_count": 62,
      "outputs": [
        {
          "output_type": "execute_result",
          "data": {
            "text/plain": [
              "[3, 4, 5]"
            ]
          },
          "metadata": {},
          "execution_count": 62
        }
      ]
    },
    {
      "cell_type": "code",
      "source": [
        "args = 3, 6\n",
        "list(range(*args)) # call with arguments unpacked from a list"
      ],
      "metadata": {
        "colab": {
          "base_uri": "https://localhost:8080/"
        },
        "id": "JqSzxTcFWiPI",
        "outputId": "9f5afed4-703f-40ef-c8a8-37bd2b6a3168"
      },
      "execution_count": 64,
      "outputs": [
        {
          "output_type": "execute_result",
          "data": {
            "text/plain": [
              "[3, 4, 5]"
            ]
          },
          "metadata": {},
          "execution_count": 64
        }
      ]
    },
    {
      "cell_type": "code",
      "source": [
        "def parrot(voltage, state='a stiff', action='voom'):\n",
        "    print(\"-- This parrot wouldn't\", action, end=' ')\n",
        "    print(\"if you put\", voltage, \"volts through it.\", end=' ')\n",
        "    print(\"E's\", state, \"!\")\n",
        "\n",
        "d = {\"voltage\": \"four million\", \"state\": \"bleedin' demised\", \"action\": \"VOOM\"}"
      ],
      "metadata": {
        "id": "ZNibrtf1W1QI"
      },
      "execution_count": 65,
      "outputs": []
    },
    {
      "cell_type": "code",
      "source": [
        "parrot(**d)"
      ],
      "metadata": {
        "colab": {
          "base_uri": "https://localhost:8080/"
        },
        "id": "bTuw5kQbW9hg",
        "outputId": "2ca19cad-1e0b-42b6-f22b-8acdbc71bf82"
      },
      "execution_count": 66,
      "outputs": [
        {
          "output_type": "stream",
          "name": "stdout",
          "text": [
            "-- This parrot wouldn't VOOM if you put four million volts through it. E's bleedin' demised !\n"
          ]
        }
      ]
    },
    {
      "cell_type": "markdown",
      "source": [
        "# 4.8.6. Lambda Expressions\n",
        "Small anonymous functions can be created with the lambda keyword. This function returns the sum of its two arguments: lambda a, b: a+b. Lambda functions can be used wherever function objects are required. They are syntactically restricted to a single expression. Semantically, they are just syntactic sugar for a normal function definition. Like nested function definitions, lambda functions can reference variables from the containing scope:"
      ],
      "metadata": {
        "id": "uChOgYnRXHUb"
      }
    },
    {
      "cell_type": "code",
      "source": [
        "def make_incrementor(n):\n",
        "    return lambda x: x + n\n",
        "\n",
        "f = make_incrementor(42)\n",
        "f(0)"
      ],
      "metadata": {
        "colab": {
          "base_uri": "https://localhost:8080/"
        },
        "id": "ZMqzf1VSXIdv",
        "outputId": "5436a281-372e-4833-edf7-27aefe798366"
      },
      "execution_count": 67,
      "outputs": [
        {
          "output_type": "execute_result",
          "data": {
            "text/plain": [
              "42"
            ]
          },
          "metadata": {},
          "execution_count": 67
        }
      ]
    },
    {
      "cell_type": "code",
      "source": [
        "f(1)"
      ],
      "metadata": {
        "colab": {
          "base_uri": "https://localhost:8080/"
        },
        "id": "VUnVpTh7XLeA",
        "outputId": "eba2161e-a40d-4a67-ffd8-1886e4f2e7b3"
      },
      "execution_count": 68,
      "outputs": [
        {
          "output_type": "execute_result",
          "data": {
            "text/plain": [
              "43"
            ]
          },
          "metadata": {},
          "execution_count": 68
        }
      ]
    },
    {
      "cell_type": "code",
      "source": [
        "f(10)"
      ],
      "metadata": {
        "colab": {
          "base_uri": "https://localhost:8080/"
        },
        "id": "mbyZWviHXNeY",
        "outputId": "84e1d6e4-61d6-49bd-da6a-45d8b64ebac8"
      },
      "execution_count": 69,
      "outputs": [
        {
          "output_type": "execute_result",
          "data": {
            "text/plain": [
              "52"
            ]
          },
          "metadata": {},
          "execution_count": 69
        }
      ]
    },
    {
      "cell_type": "markdown",
      "source": [
        "The above example uses a lambda expression to return a function. Another use is to pass a small function as an argument:"
      ],
      "metadata": {
        "id": "tTp411WOXWdq"
      }
    },
    {
      "cell_type": "code",
      "source": [
        "pairs = [(1, 'one'), (2, 'two'), (3, 'three'), (4, 'four')]\n",
        "pairs.sort(key=lambda pair: pair[1])\n",
        "pairs"
      ],
      "metadata": {
        "colab": {
          "base_uri": "https://localhost:8080/"
        },
        "id": "RFwmfVdDXYPY",
        "outputId": "f095204b-fab0-42bc-833a-0a72659e0deb"
      },
      "execution_count": 70,
      "outputs": [
        {
          "output_type": "execute_result",
          "data": {
            "text/plain": [
              "[(4, 'four'), (1, 'one'), (3, 'three'), (2, 'two')]"
            ]
          },
          "metadata": {},
          "execution_count": 70
        }
      ]
    },
    {
      "cell_type": "markdown",
      "source": [
        "# 4.8.7. Documentation Strings\n",
        "Here are some conventions about the content and formatting of documentation strings.\n",
        "\n",
        "The first line should always be a short, concise summary of the object’s purpose. For brevity, it should not explicitly state the object’s name or type, since these are available by other means (except if the name happens to be a verb describing a function’s operation). This line should begin with a capital letter and end with a period.\n",
        "\n",
        "If there are more lines in the documentation string, the second line should be blank, visually separating the summary from the rest of the description. The following lines should be one or more paragraphs describing the object’s calling conventions, its side effects, etc.\n",
        "\n",
        "The Python parser does not strip indentation from multi-line string literals in Python, so tools that process documentation have to strip indentation if desired. This is done using the following convention. The first non-blank line after the first line of the string determines the amount of indentation for the entire documentation string. (We can’t use the first line since it is generally adjacent to the string’s opening quotes so its indentation is not apparent in the string literal.) Whitespace “equivalent” to this indentation is then stripped from the start of all lines of the string. Lines that are indented less should not occur, but if they occur all their leading whitespace should be stripped. Equivalence of whitespace should be tested after expansion of tabs (to 8 spaces, normally).\n",
        "\n",
        "Here is an example of a multi-line docstring:"
      ],
      "metadata": {
        "id": "6UrKGGCJX4Xc"
      }
    },
    {
      "cell_type": "code",
      "source": [
        "def my_function():\n",
        "    \"\"\"Do nothing, but document it.\n",
        "\n",
        "    No, really, it doesn't do anything.\n",
        "    \"\"\"\n",
        "    pass\n",
        "\n",
        "print(my_function.__doc__)"
      ],
      "metadata": {
        "colab": {
          "base_uri": "https://localhost:8080/"
        },
        "id": "clDlt3p_X7OI",
        "outputId": "4f1d985d-82d2-4545-da32-71991351d2e2"
      },
      "execution_count": 71,
      "outputs": [
        {
          "output_type": "stream",
          "name": "stdout",
          "text": [
            "Do nothing, but document it.\n",
            "\n",
            "    No, really, it doesn't do anything.\n",
            "    \n"
          ]
        }
      ]
    },
    {
      "cell_type": "markdown",
      "source": [
        "# 4.8.8. Function Annotations\n",
        "Function annotations are completely optional metadata information about the types used by user-defined functions (see PEP 3107 and PEP 484 for more information).\n",
        "\n",
        "Annotations are stored in the __annotations__ attribute of the function as a dictionary and have no effect on any other part of the function. Parameter annotations are defined by a colon after the parameter name, followed by an expression evaluating to the value of the annotation. Return annotations are defined by a literal ->, followed by an expression, between the parameter list and the colon denoting the end of the def statement. The following example has a required argument, an optional argument, and the return value annotated:"
      ],
      "metadata": {
        "id": "oJbuZsBVYEoS"
      }
    },
    {
      "cell_type": "code",
      "source": [
        "def f(ham: str, eggs: str = 'eggs') -> str:\n",
        "    print(\"Annotations:\", f.__annotations__)\n",
        "    print(\"Arguments:\", ham, eggs)\n",
        "    return ham + ' and ' + eggs\n",
        "\n",
        "f('spam')"
      ],
      "metadata": {
        "colab": {
          "base_uri": "https://localhost:8080/",
          "height": 70
        },
        "id": "hRsCjYOAYGrw",
        "outputId": "e769ccea-2399-40fc-9b11-bf4b2ee40b3b"
      },
      "execution_count": 72,
      "outputs": [
        {
          "output_type": "stream",
          "name": "stdout",
          "text": [
            "Annotations: {'ham': <class 'str'>, 'eggs': <class 'str'>, 'return': <class 'str'>}\n",
            "Arguments: spam eggs\n"
          ]
        },
        {
          "output_type": "execute_result",
          "data": {
            "text/plain": [
              "'spam and eggs'"
            ],
            "application/vnd.google.colaboratory.intrinsic+json": {
              "type": "string"
            }
          },
          "metadata": {},
          "execution_count": 72
        }
      ]
    },
    {
      "cell_type": "code",
      "source": [
        ""
      ],
      "metadata": {
        "id": "XIfpxbdWYJdh"
      },
      "execution_count": null,
      "outputs": []
    }
  ]
}